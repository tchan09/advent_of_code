{
 "cells": [
  {
   "cell_type": "markdown",
   "id": "b2f03c24-e545-490c-8eee-d4b456b914e1",
   "metadata": {},
   "source": [
    "# Day 11"
   ]
  },
  {
   "cell_type": "code",
   "execution_count": 1,
   "id": "098c7a01-7180-4664-8446-caf89493b9ea",
   "metadata": {},
   "outputs": [],
   "source": [
    "import os"
   ]
  },
  {
   "cell_type": "code",
   "execution_count": 28,
   "id": "048a1116-6c41-4695-a8f1-389f6ad3d87e",
   "metadata": {},
   "outputs": [],
   "source": [
    "input_file_path = os.path.join(\".\", \"day11.txt\")\n",
    "with open(input_file_path, 'r') as reader:\n",
    "    input_data = reader.read()"
   ]
  },
  {
   "cell_type": "code",
   "execution_count": null,
   "id": "62236be9-a656-4662-b7c0-ee8793dcc9cd",
   "metadata": {},
   "outputs": [],
   "source": []
  },
  {
   "cell_type": "markdown",
   "id": "136f8286-6f98-4101-b6ce-420fe8dc0df8",
   "metadata": {},
   "source": [
    "## Part 1 + 2\n",
    "Mini-game of Conway's life"
   ]
  },
  {
   "cell_type": "code",
   "execution_count": 29,
   "id": "237a8693",
   "metadata": {},
   "outputs": [
    {
     "name": "stdout",
     "output_type": "stream",
     "text": [
      "Part 1: after 100 steps, there have been 1,658 flashes\n",
      "Part 2: after 334 steps, all tiles flashes\n"
     ]
    }
   ],
   "source": [
    "import typing\n",
    "import numpy as np\n",
    "\n",
    "list_of_arr = []\n",
    "for line in input_data.split(\"\\n\"):\n",
    "    arr = np.fromiter(line, dtype=\"uint8\")\n",
    "    list_of_arr.append(arr)\n",
    "arr = np.array(list_of_arr)\n",
    "\n",
    "def neighbours(\n",
    "    x: int, \n",
    "    y: int, \n",
    "    shape: typing.Tuple[int, int]\n",
    ") -> typing.List[typing.Tuple[int, int]]:\n",
    "    l = []\n",
    "    height, width = shape\n",
    "\n",
    "    has_left = (x > 0)\n",
    "    has_right = (x < width - 1)\n",
    "    has_top = (y > 0)\n",
    "    has_bottom = (y < height - 1)\n",
    "\n",
    "    if has_left:\n",
    "        l.append((x - 1, y))\n",
    "        if has_top:\n",
    "            l.append((x - 1, y - 1))\n",
    "\n",
    "    if has_top:\n",
    "        l.append((x, y - 1))\n",
    "        if has_right:\n",
    "            l.append((x + 1, y - 1))\n",
    "\n",
    "    if has_right:\n",
    "        l.append((x + 1, y))\n",
    "        if has_bottom:\n",
    "            l.append((x + 1, y + 1))\n",
    "\n",
    "    if has_bottom:\n",
    "        l.append((x, y + 1))\n",
    "        if has_left:\n",
    "            l.append((x - 1, y + 1))\n",
    "\n",
    "    return l\n",
    "\n",
    "fixed_count = 0\n",
    "step, steps = 0, 100\n",
    "while True:\n",
    "    # All tiles increase\n",
    "    arr += 1\n",
    "\n",
    "    # For keeping track of tiles that flashed within a step\n",
    "    idx_flashed = np.full_like(arr, False, dtype=bool)\n",
    "\n",
    "    # Find tiles with sufficient energy\n",
    "    idx_flash = (arr > 9)\n",
    "    while idx_flash.any():\n",
    "        for x, y in zip(*np.where(idx_flash)):\n",
    "            if idx_flashed[x, y]:\n",
    "                continue\n",
    "            idx_flashed[x, y] = True\n",
    "\n",
    "            # Bump all adjacent tiles\n",
    "            for i, j in neighbours(x, y, arr.shape):\n",
    "                arr[i, j] += 1\n",
    "\n",
    "        # Find new flashes in current iteration\n",
    "        idx_flash = (arr > 9) & ~idx_flashed\n",
    "\n",
    "    # Reset all flashed tiles\n",
    "    arr[idx_flashed] = 0\n",
    "    step += 1\n",
    "\n",
    "    # For part 1 answer\n",
    "    if step < steps:\n",
    "        fixed_count += idx_flashed.sum()\n",
    "    \n",
    "    # For part 2 answer\n",
    "    if idx_flashed.all():\n",
    "        break\n",
    "\n",
    "print(f\"Part 1: after {steps:,} steps, there have been {fixed_count:,} flashes\")\n",
    "print(f\"Part 2: after {step:,} steps, all tiles flashes\")"
   ]
  },
  {
   "cell_type": "code",
   "execution_count": null,
   "id": "40905a46",
   "metadata": {},
   "outputs": [],
   "source": []
  }
 ],
 "metadata": {
  "interpreter": {
   "hash": "e48a6e2cd0170b2018e57a1f3ed083b78e240925446dd06b54e25f10a6b883aa"
  },
  "kernelspec": {
   "display_name": "aoc2021",
   "language": "python",
   "name": "python3"
  },
  "language_info": {
   "codemirror_mode": {
    "name": "ipython",
    "version": 3
   },
   "file_extension": ".py",
   "mimetype": "text/x-python",
   "name": "python",
   "nbconvert_exporter": "python",
   "pygments_lexer": "ipython3",
   "version": "3.9.7"
  }
 },
 "nbformat": 4,
 "nbformat_minor": 5
}
