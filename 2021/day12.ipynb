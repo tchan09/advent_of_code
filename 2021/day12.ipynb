{
 "cells": [
  {
   "cell_type": "markdown",
   "id": "b2f03c24-e545-490c-8eee-d4b456b914e1",
   "metadata": {},
   "source": [
    "# Day 12"
   ]
  },
  {
   "cell_type": "code",
   "execution_count": 1,
   "id": "098c7a01-7180-4664-8446-caf89493b9ea",
   "metadata": {},
   "outputs": [],
   "source": [
    "import os"
   ]
  },
  {
   "cell_type": "code",
   "execution_count": 2,
   "id": "048a1116-6c41-4695-a8f1-389f6ad3d87e",
   "metadata": {},
   "outputs": [],
   "source": [
    "input_file_path = os.path.join(\".\", \"day12_sample.txt\")\n",
    "with open(input_file_path, 'r') as reader:\n",
    "    input_data = reader.read()"
   ]
  },
  {
   "cell_type": "code",
   "execution_count": null,
   "id": "62236be9-a656-4662-b7c0-ee8793dcc9cd",
   "metadata": {},
   "outputs": [],
   "source": []
  },
  {
   "cell_type": "markdown",
   "id": "136f8286-6f98-4101-b6ce-420fe8dc0df8",
   "metadata": {},
   "source": [
    "## Part 1\n",
    "Find all paths in a graph with restrictions"
   ]
  },
  {
   "cell_type": "code",
   "execution_count": 29,
   "id": "237a8693",
   "metadata": {},
   "outputs": [
    {
     "name": "stdout",
     "output_type": "stream",
     "text": [
      "Part 1: 4,304 paths found\n"
     ]
    }
   ],
   "source": [
    "import typing\n",
    "from collections import defaultdict\n",
    "\n",
    "# Build graph\n",
    "paths = defaultdict(set)\n",
    "for line in input_data.split(\"\\n\"):\n",
    "    a, b = line.split(\"-\")\n",
    "    paths[a].add(b)\n",
    "    paths[b].add(a)\n",
    "\n",
    "# Successful paths from start to end\n",
    "journeys = set()\n",
    "\n",
    "def find_paths(\n",
    "    current: typing.Tuple[str],\n",
    ") -> typing.List[typing.Tuple[str]]:\n",
    "    \n",
    "    search = []\n",
    "    for candidate in paths[current[-1]]:\n",
    "        # Don't loopback to start\n",
    "        if candidate == 'start':\n",
    "            continue\n",
    "\n",
    "        # Can't re-visit small cave\n",
    "        if candidate.islower() and candidate in current:\n",
    "            continue\n",
    "\n",
    "        # Candidate path\n",
    "        path = current + (candidate,)\n",
    "        \n",
    "        # Found successful path\n",
    "        if candidate == 'end':\n",
    "            journeys.add(path)\n",
    "            continue\n",
    "\n",
    "        # Add to search space\n",
    "        search.append(path)\n",
    "\n",
    "    return search\n",
    "\n",
    "# Recursive search\n",
    "for node in paths['start']:\n",
    "    visited = ('start', node)\n",
    "    search = find_paths(visited)\n",
    "    while search:\n",
    "        path = search.pop()\n",
    "        search.extend(find_paths(path))\n",
    "\n",
    "print(f\"Part 1: {len(journeys):,} paths found\")\n"
   ]
  },
  {
   "cell_type": "code",
   "execution_count": null,
   "id": "40905a46",
   "metadata": {},
   "outputs": [],
   "source": []
  },
  {
   "cell_type": "markdown",
   "id": "0bc1a45f",
   "metadata": {},
   "source": [
    "## Part 1\n",
    "Find all paths in a graph with relaxed restrictions"
   ]
  },
  {
   "cell_type": "code",
   "execution_count": null,
   "id": "a6762650",
   "metadata": {},
   "outputs": [],
   "source": [
    "import typing\n",
    "from collections import defaultdict, Counter\n",
    "\n",
    "# Build graph\n",
    "paths = defaultdict(set)\n",
    "for line in input_data.split(\"\\n\"):\n",
    "    a, b = line.split(\"-\")\n",
    "    paths[a].add(b)\n",
    "    paths[b].add(a)\n",
    "\n",
    "# Successful paths from start to end\n",
    "journeys = set()\n",
    "\n",
    "def find_paths(\n",
    "    current: typing.Tuple[str],\n",
    ") -> typing.List[typing.Tuple[str]]:\n",
    "    \n",
    "    search = []\n",
    "    for candidate in paths[current[-1]]:\n",
    "        # Don't loopback to start\n",
    "        if candidate == 'start':\n",
    "            continue\n",
    "\n",
    "        # Can't re-visit small cave\n",
    "        if candidate.islower() and candidate in current:\n",
    "            continue\n",
    "\n",
    "        # Candidate path\n",
    "        path = current + (candidate,)\n",
    "        \n",
    "        # Found successful path\n",
    "        if candidate == 'end':\n",
    "            journeys.add(path)\n",
    "            continue\n",
    "\n",
    "        # Add to search space\n",
    "        search.append(path)\n",
    "\n",
    "    return search\n",
    "\n",
    "# Recursive search\n",
    "for node in paths['start']:\n",
    "    visited = ('start', node)\n",
    "    search = find_paths(visited)\n",
    "    while search:\n",
    "        path = search.pop()\n",
    "        search.extend(find_paths(path))\n",
    "\n",
    "print(f\"Part 1: {len(journeys):,} paths found\")\n"
   ]
  },
  {
   "cell_type": "code",
   "execution_count": null,
   "id": "c31e7487",
   "metadata": {},
   "outputs": [],
   "source": []
  }
 ],
 "metadata": {
  "interpreter": {
   "hash": "e48a6e2cd0170b2018e57a1f3ed083b78e240925446dd06b54e25f10a6b883aa"
  },
  "kernelspec": {
   "display_name": "aoc2021",
   "language": "python",
   "name": "python3"
  },
  "language_info": {
   "codemirror_mode": {
    "name": "ipython",
    "version": 3
   },
   "file_extension": ".py",
   "mimetype": "text/x-python",
   "name": "python",
   "nbconvert_exporter": "python",
   "pygments_lexer": "ipython3",
   "version": "3.9.7"
  }
 },
 "nbformat": 4,
 "nbformat_minor": 5
}
