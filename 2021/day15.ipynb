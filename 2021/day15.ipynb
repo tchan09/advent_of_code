{
 "cells": [
  {
   "cell_type": "markdown",
   "id": "b2f03c24-e545-490c-8eee-d4b456b914e1",
   "metadata": {},
   "source": [
    "# Day 15"
   ]
  },
  {
   "cell_type": "code",
   "execution_count": 1,
   "id": "098c7a01-7180-4664-8446-caf89493b9ea",
   "metadata": {},
   "outputs": [],
   "source": [
    "import os"
   ]
  },
  {
   "cell_type": "code",
   "execution_count": 54,
   "id": "048a1116-6c41-4695-a8f1-389f6ad3d87e",
   "metadata": {},
   "outputs": [],
   "source": [
    "input_file_path = os.path.join(\".\", \"day15.txt\")\n",
    "with open(input_file_path, 'r') as reader:\n",
    "    input_data = reader.read()"
   ]
  },
  {
   "cell_type": "code",
   "execution_count": null,
   "id": "62236be9-a656-4662-b7c0-ee8793dcc9cd",
   "metadata": {},
   "outputs": [],
   "source": []
  },
  {
   "cell_type": "markdown",
   "id": "136f8286-6f98-4101-b6ce-420fe8dc0df8",
   "metadata": {},
   "source": [
    "## Part 1\n",
    "Path finding"
   ]
  },
  {
   "cell_type": "code",
   "execution_count": 55,
   "id": "237a8693",
   "metadata": {},
   "outputs": [
    {
     "name": "stdout",
     "output_type": "stream",
     "text": [
      "Part 1: cost of cheapest path is 447\n"
     ]
    }
   ],
   "source": [
    "import typing\n",
    "import numpy as np\n",
    "from queue import PriorityQueue\n",
    "\n",
    "# Form terrain\n",
    "list_of_arr = []\n",
    "for line in input_data.split(\"\\n\"):\n",
    "    arr = np.fromiter(line, dtype=\"uint8\")\n",
    "    list_of_arr.append(arr)\n",
    "arr = np.array(list_of_arr)\n",
    "\n",
    "start = (0, 0)\n",
    "end = (arr.shape[1] - 1, arr.shape[0] - 1)\n",
    "\n",
    "# Find neighbours\n",
    "def neighbours(x: int, y: int, shape: typing.Tuple[int, int]):\n",
    "    l = []\n",
    "    height, width = shape\n",
    "\n",
    "    if x > 0:\n",
    "        l.append((x - 1, y))\n",
    "\n",
    "    if y > 0:\n",
    "        l.append((x, y - 1))\n",
    "\n",
    "    if x < width - 1:\n",
    "        l.append((x + 1, y))\n",
    "\n",
    "    if y < height - 1:\n",
    "        l.append((x, y + 1))\n",
    "\n",
    "    return l\n",
    "\n",
    "# Estimate cost to get to any given point\n",
    "def estimate(x: int, y: int):\n",
    "    x2, y2 = end\n",
    "    return abs(x2 - x) + abs(y2 - y)\n",
    "\n",
    "# Track search space\n",
    "candidates = PriorityQueue()\n",
    "candidates.put((0, start))\n",
    "\n",
    "# Track path\n",
    "paths = {start: None}\n",
    "\n",
    "arr_costs = np.full_like(arr, fill_value=np.inf, dtype=\"float64\")\n",
    "while not candidates.empty():\n",
    "    _, (x, y) = candidates.get()\n",
    "\n",
    "    # Found path to destination\n",
    "    if (x, y) == end:\n",
    "        break\n",
    "\n",
    "    # Evaluate candidate neighbours\n",
    "    for i, j in neighbours(x, y, arr.shape):\n",
    "        if np.isinf(arr_costs[x, y]):\n",
    "            cost = arr[i, j]\n",
    "        else:\n",
    "            cost = arr_costs[x, y] + arr[i, j]\n",
    "\n",
    "        # Discovered new tile or a cheaper path to a known tile\n",
    "        if cost < arr_costs[i, j]:\n",
    "            arr_costs[i, j] = cost\n",
    "\n",
    "            # Put candidates closer to end goal at priority\n",
    "            priority = cost + estimate(i, j)\n",
    "\n",
    "            candidates.put((priority, (i, j)))\n",
    "            paths[(i, j)] = (x, y)\n",
    "\n",
    "# Count cost of cheapest path\n",
    "node = end\n",
    "cost = 0\n",
    "while True:\n",
    "    cost += arr[node]\n",
    "    node = paths[node]\n",
    "    if node == start:\n",
    "        break\n",
    "\n",
    "print(f\"Part 1: cost of cheapest path is {cost}\")\n"
   ]
  },
  {
   "cell_type": "code",
   "execution_count": null,
   "id": "847f3a3f",
   "metadata": {},
   "outputs": [],
   "source": []
  },
  {
   "cell_type": "markdown",
   "id": "ffcf0831",
   "metadata": {},
   "source": [
    "## Part 2\n",
    "Tile map five times each dimension"
   ]
  },
  {
   "cell_type": "code",
   "execution_count": 56,
   "id": "e194bb5a",
   "metadata": {},
   "outputs": [
    {
     "name": "stdout",
     "output_type": "stream",
     "text": [
      "Part 2: cost of cheapest path is 2825\n"
     ]
    }
   ],
   "source": [
    "import typing\n",
    "import numpy as np\n",
    "from queue import PriorityQueue\n",
    "\n",
    "# Form terrain\n",
    "list_of_arr = []\n",
    "for line in input_data.split(\"\\n\"):\n",
    "    arr = np.fromiter(line, dtype=\"uint8\")\n",
    "    list_of_arr.append(arr)\n",
    "arr_base = np.array(list_of_arr)\n",
    "\n",
    "# Tile base graph to generate final form\n",
    "base_height, base_width = arr_base.shape\n",
    "arr = np.tile(arr_base, (5, 5))\n",
    "for i in range(5):\n",
    "    for j in range(5):\n",
    "        x = i * base_width\n",
    "        p = x + base_width\n",
    "\n",
    "        y = j * base_height\n",
    "        q = y + base_height\n",
    "        arr[x:p, y:q] += (i + j)\n",
    "        \n",
    "        idx = arr[x:p, y:q] > 9\n",
    "        arr[x:p, y:q][idx] -= 9\n",
    "\n",
    "start = (0, 0)\n",
    "end = (arr.shape[1] - 1, arr.shape[0] - 1)\n",
    "\n",
    "# Find neighbours\n",
    "def neighbours(x: int, y: int, shape: typing.Tuple[int, int]):\n",
    "    l = []\n",
    "    height, width = shape\n",
    "\n",
    "    if x > 0:\n",
    "        l.append((x - 1, y))\n",
    "\n",
    "    if y > 0:\n",
    "        l.append((x, y - 1))\n",
    "\n",
    "    if x < width - 1:\n",
    "        l.append((x + 1, y))\n",
    "\n",
    "    if y < height - 1:\n",
    "        l.append((x, y + 1))\n",
    "\n",
    "    return l\n",
    "\n",
    "# Estimate cost to get to any given point\n",
    "def estimate(x: int, y: int):\n",
    "    x2, y2 = end\n",
    "    return abs(x2 - x) + abs(y2 - y)\n",
    "\n",
    "# Track search space\n",
    "candidates = PriorityQueue()\n",
    "candidates.put((0, start))\n",
    "\n",
    "# Track path\n",
    "paths = {start: None}\n",
    "\n",
    "arr_costs = np.full_like(arr, fill_value=np.inf, dtype=\"float64\")\n",
    "while not candidates.empty():\n",
    "    _, (x, y) = candidates.get()\n",
    "\n",
    "    # Found path to destination\n",
    "    if (x, y) == end:\n",
    "        break\n",
    "\n",
    "    # Evaluate candidate neighbours\n",
    "    for i, j in neighbours(x, y, arr.shape):\n",
    "        if np.isinf(arr_costs[x, y]):\n",
    "            cost = arr[i, j]\n",
    "        else:\n",
    "            cost = arr_costs[x, y] + arr[i, j]\n",
    "\n",
    "        # Discovered new tile or a cheaper path to a known tile\n",
    "        if cost < arr_costs[i, j]:\n",
    "            arr_costs[i, j] = cost\n",
    "\n",
    "            # Put candidates closer to end goal at priority\n",
    "            priority = cost + estimate(i, j)\n",
    "\n",
    "            candidates.put((priority, (i, j)))\n",
    "            paths[(i, j)] = (x, y)\n",
    "\n",
    "# Count cost of cheapest path\n",
    "node = end\n",
    "cost = 0\n",
    "while True:\n",
    "    cost += arr[node]\n",
    "    node = paths[node]\n",
    "    if node == start:\n",
    "        break\n",
    "\n",
    "print(f\"Part 2: cost of cheapest path is {cost}\")\n"
   ]
  },
  {
   "cell_type": "code",
   "execution_count": null,
   "id": "ec04454e",
   "metadata": {},
   "outputs": [],
   "source": []
  }
 ],
 "metadata": {
  "interpreter": {
   "hash": "1f9563b27d694e5ee6ecd24957b52f5de2809a3763e6a7f400edcca1bbac6f3d"
  },
  "kernelspec": {
   "display_name": "aoc2021",
   "language": "python",
   "name": "python3"
  },
  "language_info": {
   "codemirror_mode": {
    "name": "ipython",
    "version": 3
   },
   "file_extension": ".py",
   "mimetype": "text/x-python",
   "name": "python",
   "nbconvert_exporter": "python",
   "pygments_lexer": "ipython3",
   "version": "3.10.4"
  }
 },
 "nbformat": 4,
 "nbformat_minor": 5
}
