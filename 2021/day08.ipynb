{
 "cells": [
  {
   "cell_type": "markdown",
   "id": "b2f03c24-e545-490c-8eee-d4b456b914e1",
   "metadata": {},
   "source": [
    "# Day 8"
   ]
  },
  {
   "cell_type": "code",
   "execution_count": 109,
   "id": "098c7a01-7180-4664-8446-caf89493b9ea",
   "metadata": {},
   "outputs": [],
   "source": [
    "import os"
   ]
  },
  {
   "cell_type": "code",
   "execution_count": 113,
   "id": "048a1116-6c41-4695-a8f1-389f6ad3d87e",
   "metadata": {},
   "outputs": [],
   "source": [
    "input_file_path = os.path.join(\".\", \"day08.txt\")\n",
    "with open(input_file_path, 'r') as reader:\n",
    "    input_data = reader.read()"
   ]
  },
  {
   "cell_type": "code",
   "execution_count": null,
   "id": "62236be9-a656-4662-b7c0-ee8793dcc9cd",
   "metadata": {},
   "outputs": [],
   "source": []
  },
  {
   "cell_type": "markdown",
   "id": "136f8286-6f98-4101-b6ce-420fe8dc0df8",
   "metadata": {},
   "source": [
    "## Part 1\n",
    "Count instances of 1, 4, 7 and 8"
   ]
  },
  {
   "cell_type": "code",
   "execution_count": 114,
   "id": "237a8693",
   "metadata": {},
   "outputs": [
    {
     "name": "stdout",
     "output_type": "stream",
     "text": [
      "Part 1: 532 appearances\n"
     ]
    }
   ],
   "source": [
    "count = 0\n",
    "for line in input_data.split(\"\\n\"):\n",
    "    segments, reading = line.split(\" | \")\n",
    "\n",
    "    # Pressence of 1, 4, 7 and 8 digits\n",
    "    count += sum(1 for x in reading.split() if len(x) in (2, 4, 3, 7))\n",
    "\n",
    "print(f\"Part 1: {count:,} appearances\")"
   ]
  },
  {
   "cell_type": "code",
   "execution_count": null,
   "id": "40905a46",
   "metadata": {},
   "outputs": [],
   "source": []
  },
  {
   "cell_type": "markdown",
   "id": "76b030a5",
   "metadata": {},
   "source": [
    "## Part 2\n",
    "Deduce all readings"
   ]
  },
  {
   "cell_type": "code",
   "execution_count": 115,
   "id": "cb03124f",
   "metadata": {},
   "outputs": [
    {
     "name": "stdout",
     "output_type": "stream",
     "text": [
      "Part 2: 1,011,284 total\n"
     ]
    }
   ],
   "source": [
    "digit_lookup = {\n",
    "    1: \"cf\",      # 2 segments\n",
    "    4: \"bcdf\",    # 4 segments\n",
    "    7: \"acf\",     # 3 segments\n",
    "    8: \"abcdefg\", # 7 segments\n",
    "\n",
    "    2: \"acdeg\",   # 5 segments\n",
    "    3: \"acdfg\",   # 5 segments\n",
    "    5: \"abdfg\",   # 5 segments\n",
    "\n",
    "    0: \"abcefg\",  # 6 segments\n",
    "    6: \"abdefg\",  # 6 segments\n",
    "    9: \"abcdfg\",  # 6 segments\n",
    "}\n",
    "\n",
    "total = 0\n",
    "for line in input_data.split(\"\\n\"):\n",
    "    segments, reading = line.split(\" | \")\n",
    "\n",
    "    segment_mapping = {}\n",
    "    unknown_five_segments = set()\n",
    "    unknown_six_segments = set()\n",
    "\n",
    "    # Map the segments\n",
    "    for segment in segments.split(\" \"):\n",
    "        n = len(segment)\n",
    "\n",
    "        # Trivial 1:1 segments\n",
    "        if n == 2:\n",
    "            segment_mapping[1] = set(segment)\n",
    "        elif n == 4:\n",
    "            segment_mapping[4] = set(segment)\n",
    "        elif n == 3:\n",
    "            segment_mapping[7] = set(segment)\n",
    "        elif n == 7:\n",
    "            segment_mapping[8] = set(segment)\n",
    "\n",
    "        # Possible mappings to 2, 3, 5\n",
    "        elif n == 5:\n",
    "            unknown_five_segments.add(segment)\n",
    "\n",
    "        # Possible mappings to 0, 6, 9\n",
    "        elif n == 6:\n",
    "            unknown_six_segments.add(segment)\n",
    "\n",
    "        else:\n",
    "            raise ValueError(f\"Unknown segment detected in {segments}\")\n",
    "\n",
    "    # Deduce number: 3\n",
    "    tmp_three = [x for x in unknown_five_segments if not segment_mapping[7] - set(x)][0]\n",
    "    segment_mapping[3] = set(tmp_three)\n",
    "    unknown_five_segments.remove(tmp_three)\n",
    "\n",
    "    # Deduce segments: a, b, d, e, g\n",
    "    segment_a = segment_mapping[7] - segment_mapping[1]\n",
    "    segment_g = segment_mapping[3] - segment_mapping[4] - segment_a\n",
    "    segment_d = segment_mapping[3] - segment_mapping[7] - segment_g\n",
    "    segment_b = segment_mapping[4] - segment_mapping[7] - segment_d\n",
    "    segment_e = segment_mapping[8] - segment_mapping[3] - segment_b\n",
    "\n",
    "    # Deduce number: 0\n",
    "    tmp_zero = [x for x in unknown_six_segments if segment_mapping[8] - segment_d == set(x)][0]\n",
    "    segment_mapping[0] = set(tmp_zero)\n",
    "    unknown_six_segments.remove(tmp_zero)\n",
    "\n",
    "    # Deduce segments c, f\n",
    "    # Deduce numbers: 6, 9\n",
    "    tmp_segments = segment_a | segment_d | segment_g | segment_b | segment_e\n",
    "    tmp_six, tmp_nine = unknown_six_segments\n",
    "    tmp_six, tmp_nine = set(tmp_six), set(tmp_nine)\n",
    "    if len(tmp_six - tmp_segments) < 2:\n",
    "        segment_f = tmp_six - tmp_segments\n",
    "        segment_mapping[6] = tmp_six\n",
    "        segment_mapping[9] = tmp_nine\n",
    "    else:\n",
    "        segment_f = tmp_nine - tmp_segments\n",
    "        segment_mapping[6] = tmp_nine\n",
    "        segment_mapping[9] = tmp_six\n",
    "    segment_c = segment_mapping[9] - segment_mapping[6]\n",
    "\n",
    "    # Infer numbers: 2, 5\n",
    "    segment_mapping[2] = segment_a | segment_c | segment_d | segment_e | segment_g\n",
    "    segment_mapping[5] = segment_a | segment_b | segment_d | segment_f | segment_g\n",
    "\n",
    "    # Build reverse lookup map\n",
    "    digit_lookup = {\n",
    "        \"\".join(sorted(v)): k\n",
    "        for k, v in segment_mapping.items()\n",
    "    }\n",
    "\n",
    "    # Parse reading\n",
    "    digits = [digit_lookup[\"\".join(sorted(x))] for x in reading.split(\" \")]\n",
    "    total += sum(x * y for x, y in zip(digits, [1_000, 100, 10, 1]))\n",
    "\n",
    "print(f\"Part 2: {total:,} total\")"
   ]
  },
  {
   "cell_type": "code",
   "execution_count": null,
   "id": "3bfe24cd",
   "metadata": {},
   "outputs": [],
   "source": []
  }
 ],
 "metadata": {
  "interpreter": {
   "hash": "e48a6e2cd0170b2018e57a1f3ed083b78e240925446dd06b54e25f10a6b883aa"
  },
  "kernelspec": {
   "display_name": "aoc2021",
   "language": "python",
   "name": "python3"
  },
  "language_info": {
   "codemirror_mode": {
    "name": "ipython",
    "version": 3
   },
   "file_extension": ".py",
   "mimetype": "text/x-python",
   "name": "python",
   "nbconvert_exporter": "python",
   "pygments_lexer": "ipython3",
   "version": "3.9.7"
  }
 },
 "nbformat": 4,
 "nbformat_minor": 5
}
