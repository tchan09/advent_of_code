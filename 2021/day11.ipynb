{
 "cells": [
  {
   "cell_type": "markdown",
   "id": "b2f03c24-e545-490c-8eee-d4b456b914e1",
   "metadata": {},
   "source": [
    "# Day 11"
   ]
  },
  {
   "cell_type": "code",
   "execution_count": 3,
   "id": "098c7a01-7180-4664-8446-caf89493b9ea",
   "metadata": {},
   "outputs": [],
   "source": [
    "import os"
   ]
  },
  {
   "cell_type": "code",
   "execution_count": 4,
   "id": "048a1116-6c41-4695-a8f1-389f6ad3d87e",
   "metadata": {},
   "outputs": [],
   "source": [
    "input_file_path = os.path.join(\".\", \"day11_sample.txt\")\n",
    "with open(input_file_path, 'r') as reader:\n",
    "    input_data = reader.read()"
   ]
  },
  {
   "cell_type": "code",
   "execution_count": null,
   "id": "62236be9-a656-4662-b7c0-ee8793dcc9cd",
   "metadata": {},
   "outputs": [],
   "source": []
  },
  {
   "cell_type": "markdown",
   "id": "136f8286-6f98-4101-b6ce-420fe8dc0df8",
   "metadata": {},
   "source": [
    "## Part 1 + 2\n",
    "Keep running parse tree stack"
   ]
  },
  {
   "cell_type": "code",
   "execution_count": 28,
   "id": "237a8693",
   "metadata": {},
   "outputs": [
    {
     "name": "stdout",
     "output_type": "stream",
     "text": [
      "0\n",
      "[[6 5 9 4 2 5 4 3 3 4]\n",
      " [3 8 5 6 9 6 5 8 2 2]\n",
      " [6 3 7 5 6 6 7 2 8 4]\n",
      " [7 2 5 2 4 4 7 2 5 7]\n",
      " [7 4 6 8 4 9 6 5 8 9]\n",
      " [5 2 7 8 6 3 5 7 5 6]\n",
      " [3 2 8 7 9 5 2 8 3 2]\n",
      " [7 9 9 3 9 9 2 2 4 5]\n",
      " [5 9 5 7 9 5 9 6 6 5]\n",
      " [6 3 9 4 8 6 2 6 3 7]]\n",
      "\n",
      "1\n",
      "[[8 8 1 7 4 7 5 4 4 5]\n",
      " [4 0 7 9 0 8 6 9 3 3]\n",
      " [8 5 9 7 8 8 8 5 1 8]\n",
      " [8 4 8 5 7 6 9 6 0 2]\n",
      " [8 7 0 3 9 1 8 8 2 3]\n",
      " [6 6 1 6 1 8 8 9 8 9]\n",
      " [6 8 3 3 7 0 5 9 4 3]\n",
      " [0 5 6 0 7 4 7 4 5 6]\n",
      " [9 3 3 3 6 2 2 8 7 6]\n",
      " [8 7 3 0 2 0 6 8 4 8]]\n",
      "\n",
      "Part 1: after 2 steps, there have been 34 flashes\n"
     ]
    }
   ],
   "source": [
    "import typing\n",
    "import numpy as np\n",
    "\n",
    "list_of_arr = []\n",
    "for line in input_data.split(\"\\n\"):\n",
    "    arr = np.fromiter(line, dtype=\"uint8\")\n",
    "    list_of_arr.append(arr)\n",
    "arr = np.array(list_of_arr)\n",
    "\n",
    "def neighbours(\n",
    "    x: int, \n",
    "    y: int, \n",
    "    shape: typing.Tuple[int, int]\n",
    ") -> typing.List[typing.Tuple[int, int]]:\n",
    "    l = []\n",
    "\n",
    "    has_left = (x > 0)\n",
    "    has_right = (x < shape[0] - 1)\n",
    "    has_top = (y > 0)\n",
    "    has_bottom = (y < shape[1] - 1)\n",
    "\n",
    "    if has_left:\n",
    "        l.append((x - 1, y))\n",
    "        if has_top:\n",
    "            l.append((x - 1, y - 1))\n",
    "\n",
    "    if has_top:\n",
    "        l.append((x, y - 1))\n",
    "        if has_right:\n",
    "            l.append((x + 1, y - 1))\n",
    "\n",
    "    if has_right:\n",
    "        l.append((x + 1, y))\n",
    "        if has_bottom:\n",
    "            l.append((x + 1, y + 1))\n",
    "\n",
    "    if has_bottom:\n",
    "        l.append((x, y + 1))\n",
    "        if has_left:\n",
    "            l.append((x - 1, y + 1))\n",
    "\n",
    "    return l\n",
    "\n",
    "count = 0\n",
    "steps = 2\n",
    "for step in range(steps):\n",
    "    arr += 1\n",
    "    idx_flash = (arr > 9)\n",
    "    flashed = set()\n",
    "    while idx_flash.any():\n",
    "        count += idx_flash.sum()\n",
    "        for x, y in zip(*np.where(idx_flash)):\n",
    "            arr[x, y] = 0\n",
    "\n",
    "            # Make sure we only flash each tile once per step\n",
    "            if (x, y) in flashed:\n",
    "                continue\n",
    "            flashed.add((x, y))\n",
    "\n",
    "            # Bump all adjacent tiles\n",
    "            for i, j in neighbours(x, y, arr.shape):\n",
    "                if (i, i) not in flashed:\n",
    "                    arr[i, j] += 1\n",
    "\n",
    "        # Find new recursive flashes in current iteration\n",
    "        idx_flash = (arr > 9)\n",
    "    print(step)\n",
    "    print(arr)\n",
    "    print()\n",
    "\n",
    "print(f\"Part 1: after {steps:,} steps, there have been {count:,} flashes\")"
   ]
  },
  {
   "cell_type": "code",
   "execution_count": null,
   "id": "40905a46",
   "metadata": {},
   "outputs": [],
   "source": []
  }
 ],
 "metadata": {
  "interpreter": {
   "hash": "e48a6e2cd0170b2018e57a1f3ed083b78e240925446dd06b54e25f10a6b883aa"
  },
  "kernelspec": {
   "display_name": "aoc2021",
   "language": "python",
   "name": "python3"
  },
  "language_info": {
   "codemirror_mode": {
    "name": "ipython",
    "version": 3
   },
   "file_extension": ".py",
   "mimetype": "text/x-python",
   "name": "python",
   "nbconvert_exporter": "python",
   "pygments_lexer": "ipython3",
   "version": "3.10.4"
  }
 },
 "nbformat": 4,
 "nbformat_minor": 5
}
