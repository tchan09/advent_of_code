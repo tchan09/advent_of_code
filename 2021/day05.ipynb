{
 "cells": [
  {
   "cell_type": "markdown",
   "id": "b2f03c24-e545-490c-8eee-d4b456b914e1",
   "metadata": {},
   "source": [
    "# Day 5"
   ]
  },
  {
   "cell_type": "code",
   "execution_count": 1,
   "id": "098c7a01-7180-4664-8446-caf89493b9ea",
   "metadata": {},
   "outputs": [],
   "source": [
    "import os"
   ]
  },
  {
   "cell_type": "code",
   "execution_count": 79,
   "id": "048a1116-6c41-4695-a8f1-389f6ad3d87e",
   "metadata": {},
   "outputs": [],
   "source": [
    "input_file_path = os.path.join(\".\", \"day05.txt\")\n",
    "with open(input_file_path, 'r') as reader:\n",
    "    input_data = reader.read()"
   ]
  },
  {
   "cell_type": "code",
   "execution_count": null,
   "id": "62236be9-a656-4662-b7c0-ee8793dcc9cd",
   "metadata": {},
   "outputs": [],
   "source": []
  },
  {
   "cell_type": "markdown",
   "id": "136f8286-6f98-4101-b6ce-420fe8dc0df8",
   "metadata": {},
   "source": [
    "## Part 1 + Part 2\n",
    "Part 1: Count the number of points where two or more lines overlap, horizontal and vertical lines only\n",
    "Part 2: Including diagonal lines"
   ]
  },
  {
   "cell_type": "markdown",
   "id": "c2f0d585",
   "metadata": {},
   "source": [
    "### The naive way\n",
    "Using an int array"
   ]
  },
  {
   "cell_type": "code",
   "execution_count": 80,
   "id": "b4be5e0b",
   "metadata": {},
   "outputs": [
    {
     "name": "stdout",
     "output_type": "stream",
     "text": [
      "Field dimension is 990 x 991, using 958.1KB of memory\n"
     ]
    }
   ],
   "source": [
    "import numpy as np\n",
    "\n",
    "instructions = []\n",
    "width = height = 0\n",
    "\n",
    "# First pass: parse all input lines and determine field dimensions\n",
    "for instruction in input_data.split(\"\\n\"):\n",
    "    if len(instruction) < 1:\n",
    "        continue\n",
    "\n",
    "    origin, target = instruction.split(\" -> \")\n",
    "    coordinates = list(map(int, origin.split(\",\") + target.split(\",\")))\n",
    "    instructions.append(coordinates)\n",
    "\n",
    "    width = max(width, coordinates[0], coordinates[2])\n",
    "    height = max(height, coordinates[1], coordinates[3])\n",
    "\n",
    "width += 1\n",
    "height += 1\n",
    "\n",
    "field = np.zeros((width, height), dtype=\"uint8\")\n",
    "field2 = field.copy()\n",
    "print(f\"Field dimension is {width:,} x {height:,}, using {field.nbytes / 1024:0,.1f}KB of memory\")\n"
   ]
  },
  {
   "cell_type": "code",
   "execution_count": 81,
   "id": "f4a7ee49",
   "metadata": {},
   "outputs": [
    {
     "name": "stdout",
     "output_type": "stream",
     "text": [
      "Part 1: more than two overlaps: 5,084\n",
      "Part 2: more than two overlaps: 17,882\n"
     ]
    }
   ],
   "source": [
    "# Second pass: mark lines\n",
    "for (x1, y1, x2, y2) in instructions:\n",
    "\n",
    "    # Vertical line\n",
    "    if x1 == x2:\n",
    "        if y1 > y2:\n",
    "            y1, y2 = y2, y1\n",
    "\n",
    "        field[y1:y2+1, x1] += 1\n",
    "        field2[y1:y2+1, x1] += 1\n",
    "\n",
    "    # Horizontal line\n",
    "    elif y1 == y2:\n",
    "        if x1 > x2:\n",
    "            x1, x2 = x2, x1\n",
    "\n",
    "        field[y1, x1:x2+1] += 1\n",
    "        field2[y1, x1:x2+1] += 1\n",
    "\n",
    "    # Diagonal line\n",
    "    else:\n",
    "        # Assume lines are 45 degrees\n",
    "        x_delta = x2 - x1\n",
    "        y_delta = y2 - y1\n",
    "\n",
    "        if abs(x_delta) != abs(y_delta):\n",
    "            raise RuntimeError(f\"{x1}, {y1} -> {x2}, {y2} is not of the form y = x\")\n",
    "\n",
    "        if x_delta > 0:\n",
    "            x_deltas = range(x_delta + 1)\n",
    "        else:\n",
    "            x_deltas = range(0, x_delta - 1, -1)\n",
    "\n",
    "        if y_delta > 0:\n",
    "            y_deltas = range(y_delta + 1)\n",
    "        else:\n",
    "            y_deltas = range(0, y_delta - 1, -1)\n",
    "\n",
    "        for x, y in zip(x_deltas, y_deltas):\n",
    "            field2[y1 + y, x1 + x] += 1\n",
    "\n",
    "print(f\"Part 1: more than two overlaps: {np.sum(field > 1):,}\")\n",
    "print(f\"Part 2: more than two overlaps: {np.sum(field2 > 1):,}\")\n"
   ]
  },
  {
   "cell_type": "markdown",
   "id": "e51f31ea",
   "metadata": {},
   "source": [
    "### The counting way\n",
    "Assuming the field is sparse relative to lines occupying the field,\n",
    "keep count of occupied spots only"
   ]
  },
  {
   "cell_type": "code",
   "execution_count": 82,
   "id": "642f0d28",
   "metadata": {},
   "outputs": [
    {
     "name": "stdout",
     "output_type": "stream",
     "text": [
      "Part 1: more than two overlaps: 5,084\n",
      "Part 2: more than two overlaps: 17,882\n"
     ]
    }
   ],
   "source": [
    "from collections import defaultdict\n",
    "\n",
    "field = defaultdict(lambda: 0)\n",
    "field2 = defaultdict(lambda: 0)\n",
    "\n",
    "for instruction in input_data.split(\"\\n\"):\n",
    "    if len(instruction) < 1:\n",
    "        continue\n",
    "\n",
    "    origin, target = instruction.split(\" -> \")\n",
    "    x1, y1, x2, y2 = list(map(int, origin.split(\",\") + target.split(\",\")))\n",
    "\n",
    "    # Vertical line\n",
    "    if x1 == x2:\n",
    "        if y1 > y2:\n",
    "            y1, y2 = y2, y1\n",
    "\n",
    "        for y in range(y1, y2 + 1):\n",
    "            field[(x1, y)] += 1\n",
    "            field2[(x1, y)] += 1\n",
    "\n",
    "    # Horizontal line\n",
    "    elif y1 == y2:\n",
    "        if x1 > x2:\n",
    "            x1, x2 = x2, x1\n",
    "\n",
    "        for x in range(x1, x2 + 1):\n",
    "            field[(x, y1)] += 1\n",
    "            field2[(x, y1)] += 1\n",
    "\n",
    "    # Diagonal line\n",
    "    else:\n",
    "        if abs(x2 - x1) != abs(y2 - y1):\n",
    "            raise RuntimeError(f\"{x1}, {y1} -> {x2}, {y2} is not of the form y = x\")\n",
    "\n",
    "        x_incr = 1 if x2 > x1 else -1\n",
    "        y_incr = 1 if y2 > y1 else -1\n",
    "\n",
    "        for x, y in zip(range(x1, x2 + x_incr, x_incr), range(y1, y2 + y_incr, y_incr)):\n",
    "            field2[(x, y)] += 1\n",
    "\n",
    "overlaps = [coordinate for coordinate, count in field.items() if count > 1]\n",
    "overlaps2 = [coordinate for coordinate, count in field2.items() if count > 1]\n",
    "print(f\"Part 1: more than two overlaps: {len(overlaps):,}\")\n",
    "print(f\"Part 2: more than two overlaps: {len(overlaps2):,}\")"
   ]
  },
  {
   "cell_type": "code",
   "execution_count": null,
   "id": "a144c681",
   "metadata": {},
   "outputs": [],
   "source": []
  },
  {
   "cell_type": "code",
   "execution_count": null,
   "id": "9b129e54",
   "metadata": {},
   "outputs": [],
   "source": []
  }
 ],
 "metadata": {
  "interpreter": {
   "hash": "e48a6e2cd0170b2018e57a1f3ed083b78e240925446dd06b54e25f10a6b883aa"
  },
  "kernelspec": {
   "display_name": "aoc2021",
   "language": "python",
   "name": "python3"
  },
  "language_info": {
   "codemirror_mode": {
    "name": "ipython",
    "version": 3
   },
   "file_extension": ".py",
   "mimetype": "text/x-python",
   "name": "python",
   "nbconvert_exporter": "python",
   "pygments_lexer": "ipython3",
   "version": "3.10.4"
  }
 },
 "nbformat": 4,
 "nbformat_minor": 5
}
