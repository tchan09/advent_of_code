{
 "cells": [
  {
   "cell_type": "markdown",
   "id": "b2f03c24-e545-490c-8eee-d4b456b914e1",
   "metadata": {},
   "source": [
    "# Day 5"
   ]
  },
  {
   "cell_type": "code",
   "execution_count": 1,
   "id": "098c7a01-7180-4664-8446-caf89493b9ea",
   "metadata": {},
   "outputs": [],
   "source": [
    "import os"
   ]
  },
  {
   "cell_type": "code",
   "execution_count": 43,
   "id": "048a1116-6c41-4695-a8f1-389f6ad3d87e",
   "metadata": {},
   "outputs": [],
   "source": [
    "input_file_path = os.path.join(\".\", \"day05.txt\")\n",
    "with open(input_file_path, 'r') as reader:\n",
    "    input_data = reader.read()"
   ]
  },
  {
   "cell_type": "code",
   "execution_count": null,
   "id": "62236be9-a656-4662-b7c0-ee8793dcc9cd",
   "metadata": {},
   "outputs": [],
   "source": []
  },
  {
   "cell_type": "markdown",
   "id": "136f8286-6f98-4101-b6ce-420fe8dc0df8",
   "metadata": {},
   "source": [
    "## Part 1\n",
    "Count the number of points where two or more lines overlap"
   ]
  },
  {
   "cell_type": "markdown",
   "id": "c2f0d585",
   "metadata": {},
   "source": [
    "### The naive way\n",
    "Using a bit array"
   ]
  },
  {
   "cell_type": "code",
   "execution_count": 44,
   "id": "b4be5e0b",
   "metadata": {},
   "outputs": [
    {
     "name": "stdout",
     "output_type": "stream",
     "text": [
      "Field dimension is 990 x 991, using 7,664.8KB of memory\n"
     ]
    }
   ],
   "source": [
    "import numpy as np\n",
    "import pandas as pd\n",
    "\n",
    "instructions = []\n",
    "width = height = 0\n",
    "\n",
    "# First pass: parse all input lines and determine field dimensions\n",
    "for instruction in input_data.split(\"\\n\"):\n",
    "    if len(instruction) < 1:\n",
    "        continue\n",
    "\n",
    "    origin, target = instruction.split(\" -> \")\n",
    "    coordinates = list(map(int, origin.split(\",\") + target.split(\",\")))\n",
    "    instructions.append(coordinates)\n",
    "\n",
    "    width = max(width, coordinates[0], coordinates[2])\n",
    "    height = max(height, coordinates[1], coordinates[3])\n",
    "\n",
    "width += 1\n",
    "height += 1\n",
    "\n",
    "field = np.zeros((width, height))\n",
    "print(f\"Field dimension is {width:,} x {height:,}, using {field.nbytes / 1024:0,.1f}KB of memory\")\n"
   ]
  },
  {
   "cell_type": "code",
   "execution_count": 46,
   "id": "f4a7ee49",
   "metadata": {},
   "outputs": [
    {
     "name": "stdout",
     "output_type": "stream",
     "text": [
      "More than two overlaps: 100,746\n"
     ]
    }
   ],
   "source": [
    "# Second pass: mark lines\n",
    "for (x1, y1, x2, y2) in instructions:\n",
    "    # Horizontal line\n",
    "    if x1 == x2:\n",
    "        # print(f\"H: {x1}, {y1} -> {x2}, {y2}\")\n",
    "        if y1 > y2:\n",
    "            y1, y2 = y2, y1\n",
    "        field[y1:y2+1, x1] += 1\n",
    "\n",
    "    # Vertical line\n",
    "    elif y1 == y2:\n",
    "        # print(f\"V: {x1}, {y1} -> {x2}, {y2}\")\n",
    "        if x1 > x2:\n",
    "            x1, x2 = x2, x1\n",
    "        field[y1, x1:x2+1] += 1\n",
    "\n",
    "    else:\n",
    "        # print(f\"X: {x1}, {y1} -> {x2}, {y2}\")\n",
    "        continue\n",
    "    \n",
    "# display(pd.DataFrame(field).astype(int).replace(0, \".\"))\n",
    "print(f\"More than two overlaps: {np.sum(field > 1):,}\")\n"
   ]
  },
  {
   "cell_type": "code",
   "execution_count": null,
   "id": "e51f31ea",
   "metadata": {},
   "outputs": [],
   "source": []
  },
  {
   "cell_type": "code",
   "execution_count": null,
   "id": "9b129e54",
   "metadata": {},
   "outputs": [],
   "source": []
  },
  {
   "cell_type": "markdown",
   "id": "da16833d",
   "metadata": {},
   "source": [
    "## Part 2\n",
    "Find last winning bingo card"
   ]
  },
  {
   "cell_type": "code",
   "execution_count": 155,
   "id": "85a2e0df",
   "metadata": {},
   "outputs": [],
   "source": [
    "import numpy as np\n",
    "\n",
    "# Read in raw data and squash redundant whitespace\n",
    "raw_data = (\n",
    "    input_data\n",
    "        .replace(\"  \", \" \")\n",
    "        .replace(\"\\n \", \"\\n\")\n",
    "        .split(\"\\n\")\n",
    ")\n",
    "\n",
    "# First line holds the bingo number draws\n",
    "arr_draws = np.array(raw_data[0].split(\",\")).astype(int)\n",
    "\n",
    "# Subsequent lines hold the bingo cards\n",
    "n = len(raw_data) - 1\n",
    "arr_cards = np.array([\n",
    "    arr.split(\" \")\n",
    "    for i in range(2, n, 6)\n",
    "    for arr in raw_data[i:i + 5]\n",
    "]).astype(int).reshape((n // 6, 5, 5))\n"
   ]
  },
  {
   "cell_type": "code",
   "execution_count": 156,
   "id": "cd6a67ae",
   "metadata": {},
   "outputs": [
    {
     "name": "stdout",
     "output_type": "stream",
     "text": [
      "365 x 87 = 31755\n"
     ]
    }
   ],
   "source": [
    "# Apply draws\n",
    "idx_drawn = np.full_like(arr_cards, fill_value=False, dtype=bool)\n",
    "arr_winning_cards = np.full(arr_cards.shape[0], fill_value=False, dtype=bool)\n",
    "for draw in arr_draws:\n",
    "    idx_drawn |= (arr_cards == draw)\n",
    "\n",
    "    idx_bingo_row = idx_drawn.all(axis=2).any(axis=-1)\n",
    "    idx_bingo_col = idx_drawn.all(axis=1).any(axis=-1)\n",
    "    arr_pre = arr_winning_cards.copy()\n",
    "\n",
    "    # Winning bingo row or column\n",
    "    if idx_bingo_row.any():\n",
    "        arr_winning_cards |= idx_bingo_row\n",
    "    if idx_bingo_col.any():\n",
    "        arr_winning_cards |= idx_bingo_col\n",
    "\n",
    "    # Last winning card is found\n",
    "    if np.sum(arr_winning_cards) == arr_cards.shape[0]:\n",
    "        # Last winning board\n",
    "        a = np.ma.masked_where(idx_drawn, arr_cards)[~arr_pre].sum()\n",
    "        print(f\"{a} x {draw} = {a * draw}\")\n",
    "        break\n"
   ]
  },
  {
   "cell_type": "code",
   "execution_count": null,
   "id": "9fb5f165",
   "metadata": {},
   "outputs": [],
   "source": []
  }
 ],
 "metadata": {
  "interpreter": {
   "hash": "e48a6e2cd0170b2018e57a1f3ed083b78e240925446dd06b54e25f10a6b883aa"
  },
  "kernelspec": {
   "display_name": "aoc2021",
   "language": "python",
   "name": "python3"
  },
  "language_info": {
   "codemirror_mode": {
    "name": "ipython",
    "version": 3
   },
   "file_extension": ".py",
   "mimetype": "text/x-python",
   "name": "python",
   "nbconvert_exporter": "python",
   "pygments_lexer": "ipython3",
   "version": "3.10.4"
  }
 },
 "nbformat": 4,
 "nbformat_minor": 5
}
