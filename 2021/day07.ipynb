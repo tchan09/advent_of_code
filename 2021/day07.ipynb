{
 "cells": [
  {
   "cell_type": "markdown",
   "id": "b2f03c24-e545-490c-8eee-d4b456b914e1",
   "metadata": {},
   "source": [
    "# Day 7"
   ]
  },
  {
   "cell_type": "code",
   "execution_count": 1,
   "id": "098c7a01-7180-4664-8446-caf89493b9ea",
   "metadata": {},
   "outputs": [],
   "source": [
    "import os"
   ]
  },
  {
   "cell_type": "code",
   "execution_count": 2,
   "id": "048a1116-6c41-4695-a8f1-389f6ad3d87e",
   "metadata": {},
   "outputs": [],
   "source": [
    "input_file_path = os.path.join(\".\", \"day07.txt\")\n",
    "with open(input_file_path, 'r') as reader:\n",
    "    input_data = reader.read()"
   ]
  },
  {
   "cell_type": "code",
   "execution_count": null,
   "id": "62236be9-a656-4662-b7c0-ee8793dcc9cd",
   "metadata": {},
   "outputs": [],
   "source": []
  },
  {
   "cell_type": "markdown",
   "id": "136f8286-6f98-4101-b6ce-420fe8dc0df8",
   "metadata": {},
   "source": [
    "## Part 1\n",
    "Optimise movement of all submarines to one position"
   ]
  },
  {
   "cell_type": "code",
   "execution_count": 3,
   "id": "237a8693",
   "metadata": {},
   "outputs": [
    {
     "name": "stdout",
     "output_type": "stream",
     "text": [
      "Part 1: optimal position (=330) has fuel cost 347,509\n"
     ]
    }
   ],
   "source": [
    "import numpy as np\n",
    "arr_positions = np.array(list(map(int, input_data.replace(\"\\n\", \"\").split(\",\"))))\n",
    "optimal_positon = np.median(arr_positions)\n",
    "cost = np.abs(arr_positions - optimal_positon).sum()\n",
    "\n",
    "print(f\"Part 1: optimal position (={optimal_positon:0,.0f}) has fuel cost {cost:,.0f}\")\n"
   ]
  },
  {
   "cell_type": "code",
   "execution_count": null,
   "id": "e55d5635",
   "metadata": {},
   "outputs": [],
   "source": []
  },
  {
   "cell_type": "markdown",
   "id": "76b030a5",
   "metadata": {},
   "source": [
    "## Part 2\n",
    "Optimise movement of all submarines assuming non-linear fuel cost"
   ]
  },
  {
   "cell_type": "code",
   "execution_count": 37,
   "id": "bd8df0f7",
   "metadata": {},
   "outputs": [
    {
     "name": "stdout",
     "output_type": "stream",
     "text": [
      "Part 2: optimal position (=473) has fuel cost 98,257,206\n"
     ]
    }
   ],
   "source": [
    "import numpy as np\n",
    "arr_positions = np.sort(np.array(list(map(int, input_data.replace(\"\\n\", \"\").split(\",\")))))\n",
    "\n",
    "optimal_position = -1\n",
    "cost = -1\n",
    "\n",
    "observed_positions = set()\n",
    "\n",
    "for i in arr_positions:\n",
    "    # We've seen this position before\n",
    "    if i in observed_positions:\n",
    "        continue\n",
    "\n",
    "    # Linear differences\n",
    "    arr_delta = np.abs(arr_positions - i)\n",
    "\n",
    "    # Convert to geometric cost\n",
    "    current_cost = np.sum(arr_delta * (arr_delta + 1) * 0.5)\n",
    "\n",
    "    observed_positions.add(i)\n",
    "    if cost < 0 or current_cost < cost:\n",
    "        cost = current_cost\n",
    "        optional_position = i\n",
    "\n",
    "print(f\"Part 2: optimal position (={optimal_positon:0,.0f}) has fuel cost {cost:,.0f}\")\n"
   ]
  },
  {
   "cell_type": "code",
   "execution_count": null,
   "id": "870b8e0b",
   "metadata": {},
   "outputs": [],
   "source": []
  },
  {
   "cell_type": "code",
   "execution_count": null,
   "id": "989a2ab4",
   "metadata": {},
   "outputs": [],
   "source": []
  }
 ],
 "metadata": {
  "interpreter": {
   "hash": "e48a6e2cd0170b2018e57a1f3ed083b78e240925446dd06b54e25f10a6b883aa"
  },
  "kernelspec": {
   "display_name": "aoc2021",
   "language": "python",
   "name": "python3"
  },
  "language_info": {
   "codemirror_mode": {
    "name": "ipython",
    "version": 3
   },
   "file_extension": ".py",
   "mimetype": "text/x-python",
   "name": "python",
   "nbconvert_exporter": "python",
   "pygments_lexer": "ipython3",
   "version": "3.10.4"
  }
 },
 "nbformat": 4,
 "nbformat_minor": 5
}
