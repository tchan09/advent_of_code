{
 "cells": [
  {
   "cell_type": "markdown",
   "id": "b2f03c24-e545-490c-8eee-d4b456b914e1",
   "metadata": {},
   "source": [
    "# Day 10"
   ]
  },
  {
   "cell_type": "code",
   "execution_count": 1,
   "id": "098c7a01-7180-4664-8446-caf89493b9ea",
   "metadata": {},
   "outputs": [],
   "source": [
    "import os"
   ]
  },
  {
   "cell_type": "code",
   "execution_count": 2,
   "id": "048a1116-6c41-4695-a8f1-389f6ad3d87e",
   "metadata": {},
   "outputs": [],
   "source": [
    "input_file_path = os.path.join(\".\", \"day10.txt\")\n",
    "with open(input_file_path, 'r') as reader:\n",
    "    input_data = reader.read()"
   ]
  },
  {
   "cell_type": "code",
   "execution_count": null,
   "id": "62236be9-a656-4662-b7c0-ee8793dcc9cd",
   "metadata": {},
   "outputs": [],
   "source": []
  },
  {
   "cell_type": "markdown",
   "id": "136f8286-6f98-4101-b6ce-420fe8dc0df8",
   "metadata": {},
   "source": [
    "## Part 1 + 2\n",
    "Keep running stack of open/close brackets"
   ]
  },
  {
   "cell_type": "code",
   "execution_count": 3,
   "id": "237a8693",
   "metadata": {},
   "outputs": [
    {
     "name": "stdout",
     "output_type": "stream",
     "text": [
      "Part 1: syntax error score of  294,195\n",
      "Part 2: missing error score of  3,490,802,734\n"
     ]
    }
   ],
   "source": [
    "error_score_lookup = {\n",
    "    \")\": 3,\n",
    "    \"]\": 57,\n",
    "    \"}\": 1_197,\n",
    "    \">\": 25_137,\n",
    "}\n",
    "\n",
    "missing_score_lookup = {\n",
    "    \")\": 1,\n",
    "    \"]\": 2,\n",
    "    \"}\": 3,\n",
    "    \">\": 4,\n",
    "}\n",
    "\n",
    "error_score = 0\n",
    "missing_scores = []\n",
    "\n",
    "for line in input_data.split(\"\\n\"):\n",
    "    stack = []\n",
    "    for ch in line:\n",
    "        # Chunk open\n",
    "        if ch == \"[\":\n",
    "            stack.append(\"]\")\n",
    "        elif ch == \"(\":\n",
    "            stack.append(\")\")\n",
    "        elif ch == \"{\":\n",
    "            stack.append(\"}\")\n",
    "        elif ch == \"<\":\n",
    "            stack.append(\">\")\n",
    "\n",
    "        # Chumk close\n",
    "        else:\n",
    "            if not stack or ch != stack[-1]:\n",
    "                error_score += error_score_lookup[ch]\n",
    "                break\n",
    "            else:\n",
    "                stack.pop()\n",
    "\n",
    "    # Incomplete lines\n",
    "    else:\n",
    "        score = 0\n",
    "        for ch in reversed(stack):\n",
    "            score *= 5\n",
    "            score += missing_score_lookup[ch]\n",
    "        missing_scores.append(score)\n",
    "\n",
    "missing_scores.sort()\n",
    "missing_score = missing_scores[len(missing_scores) // 2]\n",
    "\n",
    "print(f\"Part 1: syntax error score of  {error_score:,}\")\n",
    "print(f\"Part 2: missing error score of  {missing_score:,}\")"
   ]
  },
  {
   "cell_type": "code",
   "execution_count": null,
   "id": "40905a46",
   "metadata": {},
   "outputs": [],
   "source": []
  }
 ],
 "metadata": {
  "interpreter": {
   "hash": "e48a6e2cd0170b2018e57a1f3ed083b78e240925446dd06b54e25f10a6b883aa"
  },
  "kernelspec": {
   "display_name": "aoc2021",
   "language": "python",
   "name": "python3"
  },
  "language_info": {
   "codemirror_mode": {
    "name": "ipython",
    "version": 3
   },
   "file_extension": ".py",
   "mimetype": "text/x-python",
   "name": "python",
   "nbconvert_exporter": "python",
   "pygments_lexer": "ipython3",
   "version": "3.10.4"
  }
 },
 "nbformat": 4,
 "nbformat_minor": 5
}
