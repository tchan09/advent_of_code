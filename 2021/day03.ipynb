{
 "cells": [
  {
   "cell_type": "markdown",
   "id": "b2f03c24-e545-490c-8eee-d4b456b914e1",
   "metadata": {},
   "source": [
    "# Day 3"
   ]
  },
  {
   "cell_type": "code",
   "execution_count": 1,
   "id": "098c7a01-7180-4664-8446-caf89493b9ea",
   "metadata": {},
   "outputs": [],
   "source": [
    "import os"
   ]
  },
  {
   "cell_type": "code",
   "execution_count": 97,
   "id": "048a1116-6c41-4695-a8f1-389f6ad3d87e",
   "metadata": {},
   "outputs": [],
   "source": [
    "input_file_path = os.path.join(\".\", \"day03.txt\")\n",
    "with open(input_file_path, 'r') as reader:\n",
    "    input_data = reader.read()"
   ]
  },
  {
   "cell_type": "code",
   "execution_count": null,
   "id": "62236be9-a656-4662-b7c0-ee8793dcc9cd",
   "metadata": {},
   "outputs": [],
   "source": []
  },
  {
   "cell_type": "markdown",
   "id": "136f8286-6f98-4101-b6ce-420fe8dc0df8",
   "metadata": {},
   "source": [
    "## Part 1\n",
    "Parse and track population count of bitstrings"
   ]
  },
  {
   "cell_type": "code",
   "execution_count": 87,
   "id": "c14c2a57",
   "metadata": {},
   "outputs": [
    {
     "name": "stdout",
     "output_type": "stream",
     "text": [
      "22 x 9 = 198\n"
     ]
    }
   ],
   "source": [
    "from collections import defaultdict\n",
    "import math\n",
    "\n",
    "bitcount = defaultdict(int)\n",
    "n = 0\n",
    "\n",
    "# Parse bitstrings\n",
    "for bitstring in input_data.split(\"\\n\"):\n",
    "    if len(bitstring) < 1:\n",
    "        continue\n",
    "    for i, bit in enumerate(reversed(bitstring)):\n",
    "        if bit == \"1\":\n",
    "            bitcount[i] += 1\n",
    "    n += 1\n",
    "\n",
    "# Derive gamma\n",
    "gamma = 0\n",
    "m = 0\n",
    "threshold = math.ceil(n / 2)\n",
    "for i, count in bitcount.items():\n",
    "    if count >= threshold:\n",
    "        gamma += 2**i\n",
    "    m += 1\n",
    "\n",
    "epsilon = 2**m - gamma - 1\n",
    "print(f\"{gamma:,} x {epsilon:,} = {gamma * epsilon:,}\")\n"
   ]
  },
  {
   "cell_type": "markdown",
   "id": "c8c2a640-b29d-44f1-8810-8e8610bad8df",
   "metadata": {},
   "source": [
    "## Part 2\n",
    "Sorting of bitstrings by population count"
   ]
  },
  {
   "cell_type": "markdown",
   "id": "219cf2f9",
   "metadata": {},
   "source": [
    "### Using externals"
   ]
  },
  {
   "cell_type": "code",
   "execution_count": 98,
   "id": "c90c76b3",
   "metadata": {},
   "outputs": [
    {
     "name": "stdout",
     "output_type": "stream",
     "text": [
      "2,547 x 737 = 1,877,139\n"
     ]
    }
   ],
   "source": [
    "import numpy as np\n",
    "\n",
    "# First pass: find length of bitstrings and the count\n",
    "n, m = 0, 0\n",
    "for bitstring in input_data.split(\"\\n\"):\n",
    "    if len(bitstring) < 1:\n",
    "        continue\n",
    "    n += 1\n",
    "    m = max(m, len(bitstring))\n",
    "\n",
    "# Add one bit for population toggle\n",
    "arr_bits = np.full((n, m + 1), False)\n",
    "\n",
    "# Second pass: load into bit array\n",
    "j = 0\n",
    "for bitstring in input_data.split(\"\\n\"):\n",
    "    if len(bitstring) < 1:\n",
    "        continue\n",
    "    for i, bit in enumerate(bitstring):\n",
    "        if bit == \"1\":\n",
    "            arr_bits[j, i + 1] = True\n",
    "    arr_bits[j, 0] = True\n",
    "    j += 1\n",
    "\n",
    "idx_o2_mask = np.full(n, True)\n",
    "idx_co2_mask = np.full(n, True)\n",
    "o2_value = co2_value = -1\n",
    "\n",
    "# Find winning oxygen generator and CO2 scrubber values\n",
    "for i in range(m):\n",
    "    if o2_value < 0:\n",
    "        # Remaining bitstrings\n",
    "        arr_o2_mask = arr_bits[idx_o2_mask, i + 1]\n",
    "\n",
    "        # Find popular bit value\n",
    "        o2_threshold = np.sum(idx_o2_mask) / 2\n",
    "        popular_bit = np.sum(arr_o2_mask) >= o2_threshold\n",
    "\n",
    "        # Update mask to select entries with the popular bit\n",
    "        idx_o2_mask &= (arr_bits[:, i + 1] == popular_bit)\n",
    "\n",
    "        # Convert from bitarray to decimal value\n",
    "        if np.sum(idx_o2_mask) == 1:\n",
    "            o2_value = (arr_bits[idx_o2_mask, 1:] @ np.power(2, np.arange(m - 1, -1, -1)))[0]\n",
    "\n",
    "    if co2_value < 0:\n",
    "        arr_co2_mask = arr_bits[idx_co2_mask, i + 1]\n",
    "        co2_threshold = np.sum(idx_co2_mask) / 2\n",
    "        least_bit = np.sum(arr_co2_mask) < co2_threshold\n",
    "        idx_co2_mask &= (arr_bits[:, i + 1] == least_bit)\n",
    "        if np.sum(idx_co2_mask) == 1:\n",
    "            co2_value = (arr_bits[idx_co2_mask, 1:] @ np.power(2, np.arange(m - 1, -1, -1)))[0]\n",
    "\n",
    "print(f\"{o2_value:,} x {co2_value:,} = {o2_value * co2_value:,}\")\n"
   ]
  },
  {
   "cell_type": "code",
   "execution_count": null,
   "id": "5e89baf8-0cf0-4604-bcb3-fdc6d4d0b76f",
   "metadata": {},
   "outputs": [],
   "source": []
  },
  {
   "cell_type": "code",
   "execution_count": null,
   "id": "591afa35",
   "metadata": {},
   "outputs": [],
   "source": []
  },
  {
   "cell_type": "code",
   "execution_count": null,
   "id": "b7741217",
   "metadata": {},
   "outputs": [],
   "source": []
  },
  {
   "cell_type": "code",
   "execution_count": null,
   "id": "42c9d023",
   "metadata": {},
   "outputs": [],
   "source": []
  }
 ],
 "metadata": {
  "interpreter": {
   "hash": "e48a6e2cd0170b2018e57a1f3ed083b78e240925446dd06b54e25f10a6b883aa"
  },
  "kernelspec": {
   "display_name": "aoc2021",
   "language": "python",
   "name": "python3"
  },
  "language_info": {
   "codemirror_mode": {
    "name": "ipython",
    "version": 3
   },
   "file_extension": ".py",
   "mimetype": "text/x-python",
   "name": "python",
   "nbconvert_exporter": "python",
   "pygments_lexer": "ipython3",
   "version": "3.9.7"
  }
 },
 "nbformat": 4,
 "nbformat_minor": 5
}
