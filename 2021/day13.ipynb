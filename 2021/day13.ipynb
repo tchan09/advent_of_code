{
 "cells": [
  {
   "cell_type": "markdown",
   "id": "b2f03c24-e545-490c-8eee-d4b456b914e1",
   "metadata": {},
   "source": [
    "# Day 13"
   ]
  },
  {
   "cell_type": "code",
   "execution_count": 1,
   "id": "098c7a01-7180-4664-8446-caf89493b9ea",
   "metadata": {},
   "outputs": [],
   "source": [
    "import os"
   ]
  },
  {
   "cell_type": "code",
   "execution_count": 54,
   "id": "048a1116-6c41-4695-a8f1-389f6ad3d87e",
   "metadata": {},
   "outputs": [],
   "source": [
    "input_file_path = os.path.join(\".\", \"day13.txt\")\n",
    "with open(input_file_path, 'r') as reader:\n",
    "    input_data = reader.read()"
   ]
  },
  {
   "cell_type": "code",
   "execution_count": null,
   "id": "62236be9-a656-4662-b7c0-ee8793dcc9cd",
   "metadata": {},
   "outputs": [],
   "source": []
  },
  {
   "cell_type": "markdown",
   "id": "136f8286-6f98-4101-b6ce-420fe8dc0df8",
   "metadata": {},
   "source": [
    "## Part 1\n",
    "Simulate paper folding"
   ]
  },
  {
   "cell_type": "code",
   "execution_count": 57,
   "id": "237a8693",
   "metadata": {},
   "outputs": [],
   "source": [
    "import numpy as np\n",
    "\n",
    "dots = []\n",
    "folds = []\n",
    "\n",
    "width = height = 0\n",
    "\n",
    "# Parse instructions\n",
    "for line in input_data.split(\"\\n\"):\n",
    "    if len(line) < 1:\n",
    "        continue\n",
    "    elif line.startswith(\"fold\"):\n",
    "        _, fold = line.split(\" along \")\n",
    "        axis, constant = fold.split(\"=\")\n",
    "        folds.append((axis, int(constant)))\n",
    "    else:\n",
    "        y, x = list(map(int, line.split(\",\")))\n",
    "        dots.append((x, y))\n",
    "\n",
    "        width = max(width, y)\n",
    "        height = max(height, x)\n",
    "\n",
    "# Create initial board\n",
    "arr = np.full((height + 1, width + 1), fill_value=False, dtype=bool)\n",
    "for (x, y) in dots:\n",
    "    arr[x, y] = True\n",
    "\n",
    "# Process folds\n",
    "# for (axis, constant) in folds:\n",
    "#     if axis == \"y\":\n",
    "#         arr = arr[:constant, :] | arr[height:constant:-1, :]\n",
    "#     else:\n",
    "#         arr = arr[:, :constant] | arr[:, width:constant:-1]\n",
    "#     break\n",
    "\n",
    "# print(f\"Part 1: {arr.sum():,} dots remain after folding\")\n"
   ]
  },
  {
   "cell_type": "code",
   "execution_count": 65,
   "id": "70d19672",
   "metadata": {},
   "outputs": [
    {
     "data": {
      "text/plain": [
       "(1305, 893)"
      ]
     },
     "execution_count": 65,
     "metadata": {},
     "output_type": "execute_result"
    }
   ],
   "source": [
    "width, height"
   ]
  },
  {
   "cell_type": "code",
   "execution_count": 66,
   "id": "40905a46",
   "metadata": {},
   "outputs": [
    {
     "data": {
      "text/plain": [
       "[('x', 655),\n",
       " ('y', 447),\n",
       " ('x', 327),\n",
       " ('y', 223),\n",
       " ('x', 163),\n",
       " ('y', 111),\n",
       " ('x', 81),\n",
       " ('y', 55),\n",
       " ('x', 40),\n",
       " ('y', 27),\n",
       " ('y', 13),\n",
       " ('y', 6)]"
      ]
     },
     "execution_count": 66,
     "metadata": {},
     "output_type": "execute_result"
    }
   ],
   "source": [
    "folds"
   ]
  },
  {
   "cell_type": "code",
   "execution_count": null,
   "id": "d6cd0970",
   "metadata": {},
   "outputs": [],
   "source": []
  },
  {
   "cell_type": "code",
   "execution_count": null,
   "id": "c31e7487",
   "metadata": {},
   "outputs": [],
   "source": []
  }
 ],
 "metadata": {
  "interpreter": {
   "hash": "e48a6e2cd0170b2018e57a1f3ed083b78e240925446dd06b54e25f10a6b883aa"
  },
  "kernelspec": {
   "display_name": "aoc2021",
   "language": "python",
   "name": "python3"
  },
  "language_info": {
   "codemirror_mode": {
    "name": "ipython",
    "version": 3
   },
   "file_extension": ".py",
   "mimetype": "text/x-python",
   "name": "python",
   "nbconvert_exporter": "python",
   "pygments_lexer": "ipython3",
   "version": "3.10.4"
  }
 },
 "nbformat": 4,
 "nbformat_minor": 5
}
