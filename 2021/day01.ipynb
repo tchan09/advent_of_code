{
 "cells": [
  {
   "cell_type": "markdown",
   "id": "b2f03c24-e545-490c-8eee-d4b456b914e1",
   "metadata": {},
   "source": [
    "# Day 1"
   ]
  },
  {
   "cell_type": "code",
   "execution_count": 1,
   "id": "098c7a01-7180-4664-8446-caf89493b9ea",
   "metadata": {},
   "outputs": [],
   "source": [
    "import os\n",
    "import numpy as np\n",
    "import bottleneck as bn"
   ]
  },
  {
   "cell_type": "code",
   "execution_count": 2,
   "id": "048a1116-6c41-4695-a8f1-389f6ad3d87e",
   "metadata": {},
   "outputs": [],
   "source": [
    "input_file_path = os.path.join(\".\", \"day01.txt\")\n",
    "with open(input_file_path, 'r') as reader:\n",
    "    input_data = reader.read()"
   ]
  },
  {
   "cell_type": "code",
   "execution_count": null,
   "id": "62236be9-a656-4662-b7c0-ee8793dcc9cd",
   "metadata": {},
   "outputs": [],
   "source": []
  },
  {
   "cell_type": "markdown",
   "id": "136f8286-6f98-4101-b6ce-420fe8dc0df8",
   "metadata": {},
   "source": [
    "## Part 1\n",
    "Count number of entries larger than previous entry"
   ]
  },
  {
   "cell_type": "markdown",
   "id": "a15c64ee-cce1-4e6a-b5be-4653fda04812",
   "metadata": {},
   "source": [
    "### Using externals"
   ]
  },
  {
   "cell_type": "code",
   "execution_count": 3,
   "id": "35bb7147-9e82-4b64-8e0e-89430f85beef",
   "metadata": {},
   "outputs": [
    {
     "data": {
      "text/plain": [
       "1451"
      ]
     },
     "execution_count": 3,
     "metadata": {},
     "output_type": "execute_result"
    }
   ],
   "source": [
    "arr = np.array(input_data.split(\"\\n\")[:-1], dtype=int)\n",
    "arr_delta = arr[1:] - arr[:-1]\n",
    "np.sum(arr_delta > 0)"
   ]
  },
  {
   "cell_type": "markdown",
   "id": "e3eb9c27-cd18-4695-a830-bfd5ffc37708",
   "metadata": {},
   "source": [
    "### Standard lib only"
   ]
  },
  {
   "cell_type": "code",
   "execution_count": 4,
   "id": "cf03942c-d4d4-46ec-b51a-f554d0ebb070",
   "metadata": {},
   "outputs": [
    {
     "data": {
      "text/plain": [
       "1451"
      ]
     },
     "execution_count": 4,
     "metadata": {},
     "output_type": "execute_result"
    }
   ],
   "source": [
    "# Hard way\n",
    "data = list(map(int,input_data.split(\"\\n\")[:-1]))\n",
    "\n",
    "count = 0\n",
    "for x, y in zip(data[:-1], data[1:]):\n",
    "    if y > x:\n",
    "        count += 1\n",
    "count"
   ]
  },
  {
   "cell_type": "code",
   "execution_count": null,
   "id": "ebb710fb-6e1c-47c9-9438-25cd1ecd592d",
   "metadata": {},
   "outputs": [],
   "source": []
  },
  {
   "cell_type": "markdown",
   "id": "c8c2a640-b29d-44f1-8810-8e8610bad8df",
   "metadata": {},
   "source": [
    "## Part 2\n",
    "With a rolling window size of 3, count number of windows where sum is larger than previous window sum"
   ]
  },
  {
   "cell_type": "markdown",
   "id": "e0b94546-c2f0-40f8-9168-0d386cd88a67",
   "metadata": {},
   "source": [
    "### Using externals"
   ]
  },
  {
   "cell_type": "code",
   "execution_count": 5,
   "id": "59f319df-f78b-4c6a-b7a7-c231098014b1",
   "metadata": {},
   "outputs": [
    {
     "data": {
      "text/plain": [
       "1395"
      ]
     },
     "execution_count": 5,
     "metadata": {},
     "output_type": "execute_result"
    }
   ],
   "source": [
    "arr = np.array(input_data.split(\"\\n\")[:-1], dtype=int)\n",
    "arr_sums = bn.move_sum(arr, 3, min_count=3)[2:]\n",
    "arr_delta = arr_sums[1:] - arr_sums[:-1]\n",
    "np.sum(arr_delta > 0)"
   ]
  },
  {
   "cell_type": "markdown",
   "id": "cc73fb61-d57c-49cd-b92f-2e38e2e6518c",
   "metadata": {},
   "source": [
    "### Standard lib only"
   ]
  },
  {
   "cell_type": "code",
   "execution_count": 6,
   "id": "4f23fd1d-a9ea-473f-806b-d1e0a8b57979",
   "metadata": {},
   "outputs": [
    {
     "data": {
      "text/plain": [
       "1395"
      ]
     },
     "execution_count": 6,
     "metadata": {},
     "output_type": "execute_result"
    }
   ],
   "source": [
    "data = list(map(int,input_data.split(\"\\n\")[:-1]))\n",
    "\n",
    "count = 0\n",
    "window = 3\n",
    "for i in range(len(data) - window):\n",
    "    x = sum(data[i:i + window])\n",
    "    y = x - data[i] + data[i + window]\n",
    "    if y > x:\n",
    "        count += 1\n",
    "count"
   ]
  },
  {
   "cell_type": "code",
   "execution_count": 7,
   "id": "6c93d942-adfa-460b-b44e-f6aa5e215705",
   "metadata": {},
   "outputs": [
    {
     "data": {
      "text/plain": [
       "1395"
      ]
     },
     "execution_count": 7,
     "metadata": {},
     "output_type": "execute_result"
    }
   ],
   "source": [
    "# Alternative algo: count where i+3 > i\n",
    "data = list(map(int,input_data.split(\"\\n\")[:-1]))\n",
    "sum(x < y for x, y in zip(data[:-3], data[3:]))"
   ]
  },
  {
   "cell_type": "code",
   "execution_count": null,
   "id": "5e89baf8-0cf0-4604-bcb3-fdc6d4d0b76f",
   "metadata": {},
   "outputs": [],
   "source": []
  }
 ],
 "metadata": {
  "interpreter": {
   "hash": "e48a6e2cd0170b2018e57a1f3ed083b78e240925446dd06b54e25f10a6b883aa"
  },
  "kernelspec": {
   "display_name": "aoc2021",
   "language": "python",
   "name": "python3"
  },
  "language_info": {
   "codemirror_mode": {
    "name": "ipython",
    "version": 3
   },
   "file_extension": ".py",
   "mimetype": "text/x-python",
   "name": "python",
   "nbconvert_exporter": "python",
   "pygments_lexer": "ipython3",
   "version": "3.9.7"
  }
 },
 "nbformat": 4,
 "nbformat_minor": 5
}
