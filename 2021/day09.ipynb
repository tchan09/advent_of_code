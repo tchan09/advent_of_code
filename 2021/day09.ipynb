{
 "cells": [
  {
   "cell_type": "markdown",
   "id": "b2f03c24-e545-490c-8eee-d4b456b914e1",
   "metadata": {},
   "source": [
    "# Day 9"
   ]
  },
  {
   "cell_type": "code",
   "execution_count": 1,
   "id": "098c7a01-7180-4664-8446-caf89493b9ea",
   "metadata": {},
   "outputs": [],
   "source": [
    "import os"
   ]
  },
  {
   "cell_type": "code",
   "execution_count": 2,
   "id": "048a1116-6c41-4695-a8f1-389f6ad3d87e",
   "metadata": {},
   "outputs": [],
   "source": [
    "input_file_path = os.path.join(\".\", \"day09.txt\")\n",
    "with open(input_file_path, 'r') as reader:\n",
    "    input_data = reader.read()"
   ]
  },
  {
   "cell_type": "code",
   "execution_count": null,
   "id": "62236be9-a656-4662-b7c0-ee8793dcc9cd",
   "metadata": {},
   "outputs": [],
   "source": []
  },
  {
   "cell_type": "markdown",
   "id": "136f8286-6f98-4101-b6ce-420fe8dc0df8",
   "metadata": {},
   "source": [
    "## Part 1\n",
    "Find all local minima points"
   ]
  },
  {
   "cell_type": "code",
   "execution_count": 3,
   "id": "237a8693",
   "metadata": {},
   "outputs": [
    {
     "name": "stdout",
     "output_type": "stream",
     "text": [
      "Part 1: sum of all risk levels is 566\n"
     ]
    }
   ],
   "source": [
    "import numpy as np\n",
    "\n",
    "list_of_arr = []\n",
    "for line in input_data.split(\"\\n\"):\n",
    "    arr = np.fromiter(line, dtype=\"uint8\")\n",
    "    list_of_arr.append(arr)\n",
    "\n",
    "arr = np.array(list_of_arr)\n",
    "arr_mask = np.full_like(arr, fill_value=True, dtype=bool)\n",
    "\n",
    "# Check up and down\n",
    "arr_mask[1:, :] &= arr[1:, :] < arr[:-1:, :]\n",
    "arr_mask[:-1, :] &= arr[:-1, :] < arr[1:, :]\n",
    "\n",
    "# Check left and right\n",
    "arr_mask[:, 1:] &= arr[:, 1:] < arr[:, :-1]\n",
    "arr_mask[:, :-1] &= arr[:, :-1] < arr[:, 1:]\n",
    "\n",
    "risk_total = np.sum(arr[arr_mask] + 1)\n",
    "print(f\"Part 1: sum of all risk levels is {risk_total:,}\")"
   ]
  },
  {
   "cell_type": "code",
   "execution_count": null,
   "id": "40905a46",
   "metadata": {},
   "outputs": [],
   "source": []
  },
  {
   "cell_type": "markdown",
   "id": "76b030a5",
   "metadata": {},
   "source": [
    "## Part 2\n",
    "Find partitions"
   ]
  },
  {
   "cell_type": "code",
   "execution_count": 13,
   "id": "cb03124f",
   "metadata": {},
   "outputs": [
    {
     "name": "stdout",
     "output_type": "stream",
     "text": [
      "Part 1: product of largest three basins is 891,684\n"
     ]
    }
   ],
   "source": [
    "import typing\n",
    "\n",
    "list_of_arr = []\n",
    "for line in input_data.split(\"\\n\"):\n",
    "    arr = np.fromiter(line, dtype=\"float64\")\n",
    "    list_of_arr.append(arr)\n",
    "arr = np.array(list_of_arr)\n",
    "\n",
    "# Find minima\n",
    "arr_mask = np.full_like(arr, fill_value=True, dtype=bool)\n",
    "arr_mask[1:, :] &= arr[1:, :] < arr[:-1:, :]\n",
    "arr_mask[:-1, :] &= arr[:-1, :] < arr[1:, :]\n",
    "arr_mask[:, 1:] &= arr[:, 1:] < arr[:, :-1]\n",
    "arr_mask[:, :-1] &= arr[:, :-1] < arr[:, 1:]\n",
    "\n",
    "# Zero out all unclaimed territory\n",
    "idx_barrier = (arr == 9)\n",
    "arr[:] = 0\n",
    "arr[idx_barrier] = np.inf\n",
    "\n",
    "def neighbours(\n",
    "    x: int, \n",
    "    y: int, \n",
    "    shape: typing.Tuple[int, int]\n",
    ") -> typing.List[typing.Tuple[int, int]]:\n",
    "    l = []\n",
    "\n",
    "    # Left\n",
    "    if x > 0:\n",
    "        l.append((x - 1, y))\n",
    "\n",
    "    # Up\n",
    "    if y > 0:\n",
    "        l.append((x, y - 1))\n",
    "\n",
    "    # Right\n",
    "    if x < shape[0] - 1:\n",
    "        l.append((x + 1, y))\n",
    "\n",
    "    # Down\n",
    "    if y < shape[1] - 1:\n",
    "        l.append((x, y + 1))\n",
    "\n",
    "    return l\n",
    "\n",
    "# Iterate over basins identified by each local minima\n",
    "count = 1\n",
    "for x, y in zip(*np.where(arr_mask)):\n",
    "    q = [(x, y)]\n",
    "\n",
    "    # Flood current basin\n",
    "    while q:\n",
    "        i, j = q.pop()\n",
    "        arr[i, j] = count\n",
    "\n",
    "        # Add neighbours\n",
    "        for ii, jj in neighbours(i, j, arr.shape):\n",
    "            if arr[ii, jj] < 1:\n",
    "                q.append((ii, jj))\n",
    "\n",
    "    count += 1\n",
    "\n",
    "# Count area of each basin\n",
    "basin_counts = [\n",
    "    np.sum(arr == x)\n",
    "    for x in range(count)\n",
    "]\n",
    "answer = np.product(sorted(basin_counts)[-3:])\n",
    "\n",
    "print(f\"Part 1: product of largest three basins is {answer:,}\")"
   ]
  },
  {
   "cell_type": "code",
   "execution_count": null,
   "id": "eac8ee60",
   "metadata": {},
   "outputs": [],
   "source": []
  }
 ],
 "metadata": {
  "interpreter": {
   "hash": "e48a6e2cd0170b2018e57a1f3ed083b78e240925446dd06b54e25f10a6b883aa"
  },
  "kernelspec": {
   "display_name": "aoc2021",
   "language": "python",
   "name": "python3"
  },
  "language_info": {
   "codemirror_mode": {
    "name": "ipython",
    "version": 3
   },
   "file_extension": ".py",
   "mimetype": "text/x-python",
   "name": "python",
   "nbconvert_exporter": "python",
   "pygments_lexer": "ipython3",
   "version": "3.9.7"
  }
 },
 "nbformat": 4,
 "nbformat_minor": 5
}
