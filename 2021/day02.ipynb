{
 "cells": [
  {
   "cell_type": "markdown",
   "id": "b2f03c24-e545-490c-8eee-d4b456b914e1",
   "metadata": {},
   "source": [
    "# Day 2"
   ]
  },
  {
   "cell_type": "code",
   "execution_count": 1,
   "id": "098c7a01-7180-4664-8446-caf89493b9ea",
   "metadata": {},
   "outputs": [],
   "source": [
    "import os"
   ]
  },
  {
   "cell_type": "code",
   "execution_count": 2,
   "id": "048a1116-6c41-4695-a8f1-389f6ad3d87e",
   "metadata": {},
   "outputs": [],
   "source": [
    "input_file_path = os.path.join(\".\", \"day02.txt\")\n",
    "with open(input_file_path, 'r') as reader:\n",
    "    input_data = reader.read()"
   ]
  },
  {
   "cell_type": "code",
   "execution_count": null,
   "id": "62236be9-a656-4662-b7c0-ee8793dcc9cd",
   "metadata": {},
   "outputs": [],
   "source": []
  },
  {
   "cell_type": "markdown",
   "id": "136f8286-6f98-4101-b6ce-420fe8dc0df8",
   "metadata": {},
   "source": [
    "## Part 1\n",
    "Parse and cumulatve directions"
   ]
  },
  {
   "cell_type": "code",
   "execution_count": 7,
   "id": "c14c2a57",
   "metadata": {},
   "outputs": [
    {
     "name": "stdout",
     "output_type": "stream",
     "text": [
      "1,957 x 955 = 1,868,935\n"
     ]
    }
   ],
   "source": [
    "x, y = 0, 0\n",
    "for instruction in input_data.split(\"\\n\"):\n",
    "    if len(instruction) < 1:\n",
    "        continue\n",
    "    direction, unit = instruction.split(\" \")\n",
    "    unit = int(unit)\n",
    "    if direction == \"forward\":\n",
    "        x += unit\n",
    "    elif direction == \"down\":\n",
    "        y += unit\n",
    "    elif direction == \"up\":\n",
    "        y -= unit\n",
    "    else:\n",
    "        raise RuntimeError(f\"Unknown instruction: {instruction}\")\n",
    "\n",
    "print(f\"{x:,} x {y:,} = {x * y:,}\")"
   ]
  },
  {
   "cell_type": "code",
   "execution_count": null,
   "id": "ebb710fb-6e1c-47c9-9438-25cd1ecd592d",
   "metadata": {},
   "outputs": [],
   "source": []
  },
  {
   "cell_type": "markdown",
   "id": "c8c2a640-b29d-44f1-8810-8e8610bad8df",
   "metadata": {},
   "source": [
    "## Part 2\n",
    "Track third variable, *aim*"
   ]
  },
  {
   "cell_type": "code",
   "execution_count": 8,
   "id": "59f319df-f78b-4c6a-b7a7-c231098014b1",
   "metadata": {},
   "outputs": [
    {
     "name": "stdout",
     "output_type": "stream",
     "text": [
      "1,957 x 1,004,584 = 1,965,970,888\n"
     ]
    }
   ],
   "source": [
    "x, y, aim = 0, 0, 0\n",
    "for instruction in input_data.split(\"\\n\"):\n",
    "    if len(instruction) < 1:\n",
    "        continue\n",
    "    direction, unit = instruction.split(\" \")\n",
    "    unit = int(unit)\n",
    "    if direction == \"forward\":\n",
    "        x += unit\n",
    "        y += aim * unit\n",
    "    elif direction == \"down\":\n",
    "        aim += unit\n",
    "    elif direction == \"up\":\n",
    "        aim -= unit\n",
    "    else:\n",
    "        raise RuntimeError(f\"Unknown instruction: {instruction}\")\n",
    "\n",
    "print(f\"{x:,} x {y:,} = {x * y:,}\")"
   ]
  },
  {
   "cell_type": "code",
   "execution_count": null,
   "id": "5e89baf8-0cf0-4604-bcb3-fdc6d4d0b76f",
   "metadata": {},
   "outputs": [],
   "source": []
  }
 ],
 "metadata": {
  "interpreter": {
   "hash": "e48a6e2cd0170b2018e57a1f3ed083b78e240925446dd06b54e25f10a6b883aa"
  },
  "kernelspec": {
   "display_name": "aoc2021",
   "language": "python",
   "name": "python3"
  },
  "language_info": {
   "codemirror_mode": {
    "name": "ipython",
    "version": 3
   },
   "file_extension": ".py",
   "mimetype": "text/x-python",
   "name": "python",
   "nbconvert_exporter": "python",
   "pygments_lexer": "ipython3",
   "version": "3.9.7"
  }
 },
 "nbformat": 4,
 "nbformat_minor": 5
}
