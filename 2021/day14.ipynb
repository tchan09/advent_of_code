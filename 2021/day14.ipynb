{
 "cells": [
  {
   "cell_type": "markdown",
   "id": "b2f03c24-e545-490c-8eee-d4b456b914e1",
   "metadata": {},
   "source": [
    "# Day 14"
   ]
  },
  {
   "cell_type": "code",
   "execution_count": 1,
   "id": "098c7a01-7180-4664-8446-caf89493b9ea",
   "metadata": {},
   "outputs": [],
   "source": [
    "import os"
   ]
  },
  {
   "cell_type": "code",
   "execution_count": 19,
   "id": "048a1116-6c41-4695-a8f1-389f6ad3d87e",
   "metadata": {},
   "outputs": [],
   "source": [
    "input_file_path = os.path.join(\".\", \"day14.txt\")\n",
    "with open(input_file_path, 'r') as reader:\n",
    "    input_data = reader.read()"
   ]
  },
  {
   "cell_type": "code",
   "execution_count": null,
   "id": "62236be9-a656-4662-b7c0-ee8793dcc9cd",
   "metadata": {},
   "outputs": [],
   "source": []
  },
  {
   "cell_type": "markdown",
   "id": "136f8286-6f98-4101-b6ce-420fe8dc0df8",
   "metadata": {},
   "source": [
    "## Part 1 + 2\n",
    "Continuous sequence splicing"
   ]
  },
  {
   "cell_type": "code",
   "execution_count": 21,
   "id": "237a8693",
   "metadata": {},
   "outputs": [
    {
     "ename": "KeyboardInterrupt",
     "evalue": "",
     "output_type": "error",
     "traceback": [
      "\u001b[0;31m---------------------------------------------------------------------------\u001b[0m",
      "\u001b[0;31mKeyboardInterrupt\u001b[0m                         Traceback (most recent call last)",
      "\u001b[1;32m/Users/tchan/workspace/advent_of_code/2021/day14.ipynb Cell 6'\u001b[0m in \u001b[0;36m<cell line: 20>\u001b[0;34m()\u001b[0m\n\u001b[1;32m     <a href='vscode-notebook-cell:/Users/tchan/workspace/advent_of_code/2021/day14.ipynb#ch0000005?line=32'>33</a>\u001b[0m     \u001b[39melse\u001b[39;00m:\n\u001b[1;32m     <a href='vscode-notebook-cell:/Users/tchan/workspace/advent_of_code/2021/day14.ipynb#ch0000005?line=33'>34</a>\u001b[0m         token \u001b[39m=\u001b[39m ch\n\u001b[0;32m---> <a href='vscode-notebook-cell:/Users/tchan/workspace/advent_of_code/2021/day14.ipynb#ch0000005?line=34'>35</a>\u001b[0m     sequences\u001b[39m.\u001b[39;49mappend(token)\n\u001b[1;32m     <a href='vscode-notebook-cell:/Users/tchan/workspace/advent_of_code/2021/day14.ipynb#ch0000005?line=36'>37</a>\u001b[0m \u001b[39m# Generate new word\u001b[39;00m\n\u001b[1;32m     <a href='vscode-notebook-cell:/Users/tchan/workspace/advent_of_code/2021/day14.ipynb#ch0000005?line=37'>38</a>\u001b[0m word \u001b[39m=\u001b[39m \u001b[39m\"\u001b[39m\u001b[39m\"\u001b[39m\u001b[39m.\u001b[39mjoin(sequences)\n",
      "\u001b[0;31mKeyboardInterrupt\u001b[0m: "
     ]
    }
   ],
   "source": [
    "from collections import Counter\n",
    "\n",
    "initial = None\n",
    "instructions = {}\n",
    "\n",
    "# Parse instructions\n",
    "for line in input_data.split(\"\\n\"):\n",
    "    if \"->\" in line:\n",
    "        sequence, insertion = line.split(\" -> \")\n",
    "        instructions[sequence] = sequence[0] + insertion + sequence[1]\n",
    "    elif initial is None:\n",
    "        initial = line\n",
    "    else:\n",
    "        continue\n",
    "\n",
    "# Process instructions\n",
    "part1_steps = 10\n",
    "part2_steps = 40\n",
    "word = initial\n",
    "for step in range(part2_steps):\n",
    "    sequences = []\n",
    "\n",
    "    # Process each 2-gram\n",
    "    for i, (a, b) in enumerate(zip(word[:-1], word[1:])):\n",
    "        ch = a + b\n",
    "        if ch in instructions:\n",
    "            token = instructions[ch]\n",
    "        \n",
    "            # Account for overlaps\n",
    "            if i > 0:\n",
    "                token = token[1:]\n",
    "\n",
    "        else:\n",
    "            token = ch\n",
    "        sequences.append(token)\n",
    "\n",
    "    # Generate new word\n",
    "    word = \"\".join(sequences)\n",
    "\n",
    "    if step == part1_steps - 1:\n",
    "        counts = Counter(word).most_common()\n",
    "        part1_delta = counts[0][1] - counts[-1][1]\n",
    "\n",
    "counts = Counter(word).most_common()\n",
    "part2_delta = counts[0][1] - counts[-1][1]\n",
    "print(f\"Part 1: delta between most and least common element is {part1_delta:,}\")\n",
    "print(f\"Part 2: delta between most and least common element is {part2_delta:,}\")"
   ]
  },
  {
   "cell_type": "code",
   "execution_count": null,
   "id": "847f3a3f",
   "metadata": {},
   "outputs": [],
   "source": []
  },
  {
   "cell_type": "code",
   "execution_count": null,
   "id": "741df5df",
   "metadata": {},
   "outputs": [],
   "source": []
  },
  {
   "cell_type": "code",
   "execution_count": null,
   "id": "63c375a2",
   "metadata": {},
   "outputs": [],
   "source": []
  }
 ],
 "metadata": {
  "interpreter": {
   "hash": "1f9563b27d694e5ee6ecd24957b52f5de2809a3763e6a7f400edcca1bbac6f3d"
  },
  "kernelspec": {
   "display_name": "aoc2021",
   "language": "python",
   "name": "python3"
  },
  "language_info": {
   "codemirror_mode": {
    "name": "ipython",
    "version": 3
   },
   "file_extension": ".py",
   "mimetype": "text/x-python",
   "name": "python",
   "nbconvert_exporter": "python",
   "pygments_lexer": "ipython3",
   "version": "3.10.4"
  }
 },
 "nbformat": 4,
 "nbformat_minor": 5
}
