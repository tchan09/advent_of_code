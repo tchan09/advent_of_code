{
 "cells": [
  {
   "cell_type": "markdown",
   "id": "b2f03c24-e545-490c-8eee-d4b456b914e1",
   "metadata": {},
   "source": [
    "# Day 14"
   ]
  },
  {
   "cell_type": "code",
   "execution_count": 1,
   "id": "098c7a01-7180-4664-8446-caf89493b9ea",
   "metadata": {},
   "outputs": [],
   "source": [
    "import os"
   ]
  },
  {
   "cell_type": "code",
   "execution_count": 2,
   "id": "048a1116-6c41-4695-a8f1-389f6ad3d87e",
   "metadata": {},
   "outputs": [],
   "source": [
    "input_file_path = os.path.join(\".\", \"day14.txt\")\n",
    "with open(input_file_path, 'r') as reader:\n",
    "    input_data = reader.read()"
   ]
  },
  {
   "cell_type": "code",
   "execution_count": null,
   "id": "62236be9-a656-4662-b7c0-ee8793dcc9cd",
   "metadata": {},
   "outputs": [],
   "source": []
  },
  {
   "cell_type": "markdown",
   "id": "136f8286-6f98-4101-b6ce-420fe8dc0df8",
   "metadata": {},
   "source": [
    "## Part 1\n",
    "Continuous sequence splicing"
   ]
  },
  {
   "cell_type": "code",
   "execution_count": 3,
   "id": "237a8693",
   "metadata": {},
   "outputs": [
    {
     "name": "stdout",
     "output_type": "stream",
     "text": [
      "Part 1: delta between most and least common element is 3,058\n"
     ]
    }
   ],
   "source": [
    "# Naive algorithm that tracks the actaul string\n",
    "from collections import Counter\n",
    "\n",
    "initial = None\n",
    "instructions = {}\n",
    "\n",
    "# Parse instructions\n",
    "for line in input_data.split(\"\\n\"):\n",
    "    if \"->\" in line:\n",
    "        sequence, insertion = line.split(\" -> \")\n",
    "        instructions[sequence] = sequence[0] + insertion + sequence[1]\n",
    "    elif initial is None:\n",
    "        initial = line\n",
    "    else:\n",
    "        continue\n",
    "\n",
    "# Process instructions\n",
    "steps = 10\n",
    "word = initial\n",
    "for step in range(steps):\n",
    "    sequences = []\n",
    "\n",
    "    # Process each 2-gram\n",
    "    for i, (a, b) in enumerate(zip(word[:-1], word[1:])):\n",
    "        ch = a + b\n",
    "        if ch in instructions:\n",
    "            token = instructions[ch]\n",
    "        \n",
    "            # Account for overlaps\n",
    "            if i > 0:\n",
    "                token = token[1:]\n",
    "\n",
    "        else:\n",
    "            token = ch\n",
    "        sequences.append(token)\n",
    "\n",
    "    # Generate new word\n",
    "    word = \"\".join(sequences)\n",
    "\n",
    "counts = Counter(word).most_common()\n",
    "delta = counts[0][1] - counts[-1][1]\n",
    "print(f\"Part 1: delta between most and least common element is {delta:,}\")"
   ]
  },
  {
   "cell_type": "code",
   "execution_count": null,
   "id": "847f3a3f",
   "metadata": {},
   "outputs": [],
   "source": []
  },
  {
   "cell_type": "markdown",
   "id": "63a11017",
   "metadata": {},
   "source": [
    "## Part 2\n",
    "Alternative algorithm to handle long mutations"
   ]
  },
  {
   "cell_type": "code",
   "execution_count": 4,
   "id": "741df5df",
   "metadata": {},
   "outputs": [
    {
     "name": "stdout",
     "output_type": "stream",
     "text": [
      "Part 2: delta between most and least common element is 3,447,389,044,530\n"
     ]
    }
   ],
   "source": [
    "# Alternative algorithm to only track letter occurances, not ordering\n",
    "import numpy as np\n",
    "from collections import defaultdict\n",
    "\n",
    "initial = None\n",
    "graph = {}\n",
    "steps = 40\n",
    "\n",
    "# Parse instructions\n",
    "for line in input_data.split(\"\\n\"):\n",
    "    if \"->\" in line:\n",
    "        sequence, insertion = line.split(\" -> \")\n",
    "        expansion = sequence[0] + insertion + sequence[1]\n",
    "        graph[sequence] = {expansion[:2], expansion[1:]}\n",
    "    elif initial is None:\n",
    "        initial = line\n",
    "    elif len(line) > 0:\n",
    "        raise RuntimeError(f\"Unknown instruction: {line}\")\n",
    "\n",
    "# An array to indicate when we have x units of one sequence,\n",
    "# what sequences we should receive after one step\n",
    "columns = list(graph.keys())\n",
    "sequence_cols = {k: i for i, k in enumerate(columns)}\n",
    "n = len(columns)\n",
    "arr_step = np.zeros((n, n))\n",
    "\n",
    "# Populate transition matrix\n",
    "for parent, (left, right) in graph.items():\n",
    "    x = sequence_cols[parent]\n",
    "    i = sequence_cols[left]\n",
    "    j = sequence_cols[right]\n",
    "    arr_step[x, [i, j]] += 1\n",
    "\n",
    "# Initial vector\n",
    "arr_initial = np.zeros(n)\n",
    "for x, y in zip(initial[:-1], initial[1:]):\n",
    "    col = sequence_cols[x + y]\n",
    "    arr_initial[col] += 1\n",
    "\n",
    "# Apply steps\n",
    "arr = arr_initial @ np.linalg.matrix_power(arr_step, steps)\n",
    "\n",
    "# Derive counts\n",
    "counter = defaultdict(int)\n",
    "for i, sequence in enumerate(columns):\n",
    "    x, y = sequence\n",
    "    count = int(arr[i])\n",
    "    counter[x] += count\n",
    "    counter[y] += count\n",
    "\n",
    "# Adjust for overlap on first and last character\n",
    "counter[initial[0]] += 1\n",
    "counter[initial[-1]] += 1\n",
    "\n",
    "# Difference between the most common and least common element\n",
    "counts = sorted([(v // 2, k) for k, v in counter.items()])\n",
    "delta = counts[-1][0] - counts[0][0]\n",
    "print(f\"Part 2: delta between most and least common element is {delta:,}\")"
   ]
  },
  {
   "cell_type": "code",
   "execution_count": null,
   "id": "ffcf0831",
   "metadata": {},
   "outputs": [],
   "source": []
  },
  {
   "cell_type": "code",
   "execution_count": null,
   "id": "e194bb5a",
   "metadata": {},
   "outputs": [],
   "source": []
  }
 ],
 "metadata": {
  "interpreter": {
   "hash": "1f9563b27d694e5ee6ecd24957b52f5de2809a3763e6a7f400edcca1bbac6f3d"
  },
  "kernelspec": {
   "display_name": "aoc2021",
   "language": "python",
   "name": "aoc2021"
  },
  "language_info": {
   "codemirror_mode": {
    "name": "ipython",
    "version": 3
   },
   "file_extension": ".py",
   "mimetype": "text/x-python",
   "name": "python",
   "nbconvert_exporter": "python",
   "pygments_lexer": "ipython3",
   "version": "3.9.7"
  }
 },
 "nbformat": 4,
 "nbformat_minor": 5
}
