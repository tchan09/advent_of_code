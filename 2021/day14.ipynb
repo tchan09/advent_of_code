{
 "cells": [
  {
   "cell_type": "markdown",
   "id": "b2f03c24-e545-490c-8eee-d4b456b914e1",
   "metadata": {},
   "source": [
    "# Day 14"
   ]
  },
  {
   "cell_type": "code",
   "execution_count": 1,
   "id": "098c7a01-7180-4664-8446-caf89493b9ea",
   "metadata": {},
   "outputs": [],
   "source": [
    "import os"
   ]
  },
  {
   "cell_type": "code",
   "execution_count": 16,
   "id": "048a1116-6c41-4695-a8f1-389f6ad3d87e",
   "metadata": {},
   "outputs": [],
   "source": [
    "input_file_path = os.path.join(\".\", \"day14_sample.txt\")\n",
    "with open(input_file_path, 'r') as reader:\n",
    "    input_data = reader.read()"
   ]
  },
  {
   "cell_type": "code",
   "execution_count": null,
   "id": "62236be9-a656-4662-b7c0-ee8793dcc9cd",
   "metadata": {},
   "outputs": [],
   "source": []
  },
  {
   "cell_type": "markdown",
   "id": "136f8286-6f98-4101-b6ce-420fe8dc0df8",
   "metadata": {},
   "source": [
    "## Part 1\n",
    "Continuous sequence splicing"
   ]
  },
  {
   "cell_type": "code",
   "execution_count": 17,
   "id": "237a8693",
   "metadata": {},
   "outputs": [
    {
     "name": "stdout",
     "output_type": "stream",
     "text": [
      "Part 1: delta between most and least common element is 1,588\n"
     ]
    }
   ],
   "source": [
    "from collections import Counter\n",
    "\n",
    "initial = None\n",
    "instructions = {}\n",
    "\n",
    "# Parse instructions\n",
    "for line in input_data.split(\"\\n\"):\n",
    "    if \"->\" in line:\n",
    "        sequence, insertion = line.split(\" -> \")\n",
    "        instructions[sequence] = sequence[0] + insertion + sequence[1]\n",
    "    elif initial is None:\n",
    "        initial = line\n",
    "    else:\n",
    "        continue\n",
    "\n",
    "# Process instructions using naive algorithm\n",
    "steps = 10\n",
    "word = initial\n",
    "for step in range(steps):\n",
    "    sequences = []\n",
    "\n",
    "    # Process each 2-gram\n",
    "    for i, (a, b) in enumerate(zip(word[:-1], word[1:])):\n",
    "        ch = a + b\n",
    "        if ch in instructions:\n",
    "            token = instructions[ch]\n",
    "        \n",
    "            # Account for overlaps\n",
    "            if i > 0:\n",
    "                token = token[1:]\n",
    "\n",
    "        else:\n",
    "            token = ch\n",
    "        sequences.append(token)\n",
    "\n",
    "    # Generate new word\n",
    "    word = \"\".join(sequences)\n",
    "\n",
    "counts = Counter(word).most_common()\n",
    "delta = counts[0][1] - counts[-1][1]\n",
    "print(f\"Part 1: delta between most and least common element is {delta:,}\")"
   ]
  },
  {
   "cell_type": "code",
   "execution_count": null,
   "id": "847f3a3f",
   "metadata": {},
   "outputs": [],
   "source": []
  },
  {
   "cell_type": "markdown",
   "id": "63a11017",
   "metadata": {},
   "source": [
    "## Part 2\n",
    "Alternative algorithm to handle long mutations"
   ]
  },
  {
   "cell_type": "code",
   "execution_count": 18,
   "id": "741df5df",
   "metadata": {},
   "outputs": [
    {
     "data": {
      "text/plain": [
       "'NNCB'"
      ]
     },
     "execution_count": 18,
     "metadata": {},
     "output_type": "execute_result"
    }
   ],
   "source": [
    "initial = None\n",
    "instructions = {}\n",
    "graph = {}\n",
    "\n",
    "# Parse instructions\n",
    "for line in input_data.split(\"\\n\"):\n",
    "    if \"->\" in line:\n",
    "        sequence, insertion = line.split(\" -> \")\n",
    "        expansion = sequence[0] + insertion + sequence[1]\n",
    "        instructions[sequence] = expansion\n",
    "        graph[sequence] = {expansion[:2], expansion[1:]}\n",
    "    elif initial is None:\n",
    "        initial = line\n",
    "    else:\n",
    "        continue\n",
    "\n",
    "\n",
    "initial"
   ]
  },
  {
   "cell_type": "code",
   "execution_count": 19,
   "id": "6bfcc491",
   "metadata": {},
   "outputs": [
    {
     "data": {
      "text/plain": [
       "{'CH': {'BH', 'CB'},\n",
       " 'HH': {'HN', 'NH'},\n",
       " 'CB': {'CH', 'HB'},\n",
       " 'NH': {'CH', 'NC'},\n",
       " 'HB': {'CB', 'HC'},\n",
       " 'HC': {'BC', 'HB'},\n",
       " 'HN': {'CN', 'HC'},\n",
       " 'NN': {'CN', 'NC'},\n",
       " 'BH': {'BH', 'HH'},\n",
       " 'NC': {'BC', 'NB'},\n",
       " 'NB': {'BB', 'NB'},\n",
       " 'BN': {'BB', 'BN'},\n",
       " 'BB': {'BN', 'NB'},\n",
       " 'BC': {'BB', 'BC'},\n",
       " 'CC': {'CN', 'NC'},\n",
       " 'CN': {'CC', 'CN'}}"
      ]
     },
     "execution_count": 19,
     "metadata": {},
     "output_type": "execute_result"
    }
   ],
   "source": [
    "graph"
   ]
  },
  {
   "cell_type": "code",
   "execution_count": null,
   "id": "3fd3442a",
   "metadata": {},
   "outputs": [],
   "source": []
  }
 ],
 "metadata": {
  "interpreter": {
   "hash": "1f9563b27d694e5ee6ecd24957b52f5de2809a3763e6a7f400edcca1bbac6f3d"
  },
  "kernelspec": {
   "display_name": "aoc2021",
   "language": "python",
   "name": "aoc2021"
  },
  "language_info": {
   "codemirror_mode": {
    "name": "ipython",
    "version": 3
   },
   "file_extension": ".py",
   "mimetype": "text/x-python",
   "name": "python",
   "nbconvert_exporter": "python",
   "pygments_lexer": "ipython3",
   "version": "3.9.7"
  }
 },
 "nbformat": 4,
 "nbformat_minor": 5
}
