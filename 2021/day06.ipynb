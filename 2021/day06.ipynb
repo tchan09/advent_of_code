{
 "cells": [
  {
   "cell_type": "markdown",
   "id": "b2f03c24-e545-490c-8eee-d4b456b914e1",
   "metadata": {},
   "source": [
    "# Day 6"
   ]
  },
  {
   "cell_type": "code",
   "execution_count": 1,
   "id": "098c7a01-7180-4664-8446-caf89493b9ea",
   "metadata": {},
   "outputs": [],
   "source": [
    "import os"
   ]
  },
  {
   "cell_type": "code",
   "execution_count": 2,
   "id": "048a1116-6c41-4695-a8f1-389f6ad3d87e",
   "metadata": {},
   "outputs": [],
   "source": [
    "input_file_path = os.path.join(\".\", \"day06_sample.txt\")\n",
    "with open(input_file_path, 'r') as reader:\n",
    "    input_data = reader.read()"
   ]
  },
  {
   "cell_type": "code",
   "execution_count": null,
   "id": "62236be9-a656-4662-b7c0-ee8793dcc9cd",
   "metadata": {},
   "outputs": [],
   "source": []
  },
  {
   "cell_type": "markdown",
   "id": "136f8286-6f98-4101-b6ce-420fe8dc0df8",
   "metadata": {},
   "source": [
    "## Part 1\n",
    "Model growth rate of lanterfish"
   ]
  },
  {
   "cell_type": "code",
   "execution_count": 59,
   "id": "237a8693",
   "metadata": {},
   "outputs": [
    {
     "data": {
      "text/plain": [
       "array([  0,   0,   1,   1,   2,   2,   3,   3,   4,   5,   6,   8,   9,\n",
       "        11,  12,  14,  16,  18,  22,  24,  28,  30,  34,  37,  41,  47,\n",
       "        51,  57,  61,  67,  71,  77,  85,  91,  99, 105, 113, 118, 126,\n",
       "       136, 144, 154, 162, 172, 178, 188, 200, 210, 222, 232, 244, 251,\n",
       "       263, 277, 289, 303, 315, 329, 337, 351, 367, 381, 397, 411, 427,\n",
       "       436, 452, 470, 486, 504, 520, 538, 548, 566, 586, 604, 624, 642,\n",
       "       662, 673])"
      ]
     },
     "execution_count": 59,
     "metadata": {},
     "output_type": "execute_result"
    }
   ],
   "source": [
    "import numpy as np\n",
    "\n",
    "# Model one fish\n",
    "n_days = 80\n",
    "n_spawn = 6\n",
    "n_first_gap = 2\n",
    "\n",
    "m_subspawn = int(n_days / n_spawn) + 1\n",
    "\n",
    "arr_lifecycle = np.zeros((n_days, m_subspawn), dtype=\"int8\")\n",
    "\n",
    "# First pass: first gen spawning\n",
    "# Trick: skip the gap days for a clean modulo operation\n",
    "for i in range(n_first_gap, n_days):\n",
    "    age = n_spawn - (i - n_first_gap) % (n_spawn + 1)\n",
    "\n",
    "    # Mark offspring\n",
    "    if age == n_spawn:\n",
    "        arr_lifecycle[i, 0] += 1\n",
    "\n",
    "# Second pass: mark child spawnings\n",
    "for j in range(m_subspawn - 1):\n",
    "    for i in range(n_days):\n",
    "        spawnings = arr_lifecycle[i, j]\n",
    "        if spawnings > 0:\n",
    "            k = n_days - i\n",
    "            arr_lifecycle[i:i + k + 1, j + 1] += arr_lifecycle[0:k, 0]\n",
    "\n",
    "arr_spawnings = np.cumsum(np.sum(arr_lifecycle, axis=1))\n",
    "arr_spawnings"
   ]
  },
  {
   "cell_type": "code",
   "execution_count": null,
   "id": "e55d5635",
   "metadata": {},
   "outputs": [],
   "source": []
  },
  {
   "cell_type": "code",
   "execution_count": null,
   "id": "9b129e54",
   "metadata": {},
   "outputs": [],
   "source": []
  },
  {
   "cell_type": "code",
   "execution_count": null,
   "id": "3a709877",
   "metadata": {},
   "outputs": [],
   "source": []
  },
  {
   "cell_type": "code",
   "execution_count": null,
   "id": "28fa0f59",
   "metadata": {},
   "outputs": [],
   "source": []
  },
  {
   "cell_type": "code",
   "execution_count": null,
   "id": "92eb1ff0",
   "metadata": {},
   "outputs": [],
   "source": []
  },
  {
   "cell_type": "code",
   "execution_count": null,
   "id": "bd8df0f7",
   "metadata": {},
   "outputs": [],
   "source": []
  }
 ],
 "metadata": {
  "interpreter": {
   "hash": "e48a6e2cd0170b2018e57a1f3ed083b78e240925446dd06b54e25f10a6b883aa"
  },
  "kernelspec": {
   "display_name": "aoc2021",
   "language": "python",
   "name": "python3"
  },
  "language_info": {
   "codemirror_mode": {
    "name": "ipython",
    "version": 3
   },
   "file_extension": ".py",
   "mimetype": "text/x-python",
   "name": "python",
   "nbconvert_exporter": "python",
   "pygments_lexer": "ipython3",
   "version": "3.10.4"
  }
 },
 "nbformat": 4,
 "nbformat_minor": 5
}
