{
 "cells": [
  {
   "cell_type": "markdown",
   "id": "b2f03c24-e545-490c-8eee-d4b456b914e1",
   "metadata": {},
   "source": [
    "# Day 6"
   ]
  },
  {
   "cell_type": "code",
   "execution_count": 1,
   "id": "098c7a01-7180-4664-8446-caf89493b9ea",
   "metadata": {},
   "outputs": [],
   "source": [
    "import os"
   ]
  },
  {
   "cell_type": "code",
   "execution_count": 21,
   "id": "048a1116-6c41-4695-a8f1-389f6ad3d87e",
   "metadata": {},
   "outputs": [],
   "source": [
    "input_file_path = os.path.join(\".\", \"day06.txt\")\n",
    "with open(input_file_path, 'r') as reader:\n",
    "    input_data = reader.read()"
   ]
  },
  {
   "cell_type": "code",
   "execution_count": null,
   "id": "62236be9-a656-4662-b7c0-ee8793dcc9cd",
   "metadata": {},
   "outputs": [],
   "source": []
  },
  {
   "cell_type": "markdown",
   "id": "136f8286-6f98-4101-b6ce-420fe8dc0df8",
   "metadata": {},
   "source": [
    "## Part 1 + Part 2\n",
    "Model growth rate of lanternfish"
   ]
  },
  {
   "cell_type": "code",
   "execution_count": 24,
   "id": "237a8693",
   "metadata": {},
   "outputs": [
    {
     "name": "stdout",
     "output_type": "stream",
     "text": [
      "Estimated number of total fish after 256 days: 1,574,445,493,136\n"
     ]
    }
   ],
   "source": [
    "import numpy as np\n",
    "\n",
    "# Number of days to model\n",
    "n_days = 256\n",
    "\n",
    "# Age at which spawning occurs\n",
    "n_spawn = 6\n",
    "\n",
    "# Numbers of extra days in first cycle after spawning\n",
    "n_first_gap = 2\n",
    "\n",
    "# Model one fish's lifecycle\n",
    "# - first column is spawnings from the first fish\n",
    "# - second column are the cumulative spawnings from children\n",
    "arr_lifecycle = np.zeros((n_days + n_spawn + n_first_gap, 2), dtype=\"int64\")\n",
    "\n",
    "# First pass: track first gen spawning\n",
    "# Trick: skip the gap days for a clean modulo operation\n",
    "for i in range(n_first_gap + n_spawn, arr_lifecycle.shape[0]):\n",
    "    age = n_spawn - (i - n_first_gap) % (n_spawn + 1)\n",
    "\n",
    "    # Mark offspring\n",
    "    if age == n_spawn:\n",
    "        arr_lifecycle[i] += 1\n",
    "\n",
    "# Second pass: cumulate child spawnings\n",
    "for i in range(arr_lifecycle.shape[0]):\n",
    "    spawnings = arr_lifecycle[i, 1]\n",
    "    if spawnings < 1:\n",
    "        continue\n",
    "\n",
    "    # Add child's lifecycle to future path\n",
    "    j = arr_lifecycle.shape[0] - i\n",
    "    arr_lifecycle[i:, 1] += arr_lifecycle[0:j, 0] * spawnings\n",
    "\n",
    "# Cumulative new offspring by day\n",
    "arr_spawnings = np.cumsum(arr_lifecycle[:, 1])\n",
    "\n",
    "# Generate lookup map based on initial age\n",
    "k = n_spawn + n_first_gap\n",
    "spawn_projection = {\n",
    "    k - i: arr_spawnings[-(k - i)]\n",
    "    for i in range(k)\n",
    "}\n",
    "\n",
    "initial_ages = list(map(int, input_data.replace(\"\\n\", \"\").split(\",\")))\n",
    "total = sum(spawn_projection[i] for i in initial_ages) + len(initial_ages)\n",
    "print(f\"Estimated number of total fish after {n_days:,} days: {total:,}\")"
   ]
  },
  {
   "cell_type": "code",
   "execution_count": null,
   "id": "e55d5635",
   "metadata": {},
   "outputs": [],
   "source": []
  }
 ],
 "metadata": {
  "interpreter": {
   "hash": "e48a6e2cd0170b2018e57a1f3ed083b78e240925446dd06b54e25f10a6b883aa"
  },
  "kernelspec": {
   "display_name": "aoc2021",
   "language": "python",
   "name": "python3"
  },
  "language_info": {
   "codemirror_mode": {
    "name": "ipython",
    "version": 3
   },
   "file_extension": ".py",
   "mimetype": "text/x-python",
   "name": "python",
   "nbconvert_exporter": "python",
   "pygments_lexer": "ipython3",
   "version": "3.9.7"
  }
 },
 "nbformat": 4,
 "nbformat_minor": 5
}
